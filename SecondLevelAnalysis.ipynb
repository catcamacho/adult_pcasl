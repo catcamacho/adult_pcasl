{
 "cells": [
  {
   "cell_type": "code",
   "execution_count": null,
   "metadata": {
    "collapsed": false,
    "deletable": true,
    "editable": true
   },
   "outputs": [],
   "source": [
    "import os\n",
    "from os.path import join as opj\n",
    "from nipype.pipeline.engine import Workflow, Node, MapNode\n",
    "from nipype.interfaces.utility import Function, IdentityInterface\n",
    "from nipype.interfaces.io import FreeSurferSource, SelectFiles, DataSink\n",
    "from nipype.interfaces.spm.model import ThresholdStatistics, TwoSampleTTestDesign, EstimateContrast, EstimateModel\n",
    "\n",
    "# MATLAB setup - Specify path to current SPM and the MATLAB's default mode\n",
    "from nipype.interfaces.matlab import MatlabCommand\n",
    "MatlabCommand.set_default_paths('/Users/catcamacho/spm12/toolbox')\n",
    "MatlabCommand.set_default_matlab_cmd(\"matlab -nodesktop -nosplash\")\n",
    "\n",
    "#other study-specific variables\n",
    "project_home = '/Users/catcamacho/Dropbox/Projects/TH_NAR_ASL/proc'\n",
    "proc_subj_dir = project_home + '/proc/masked_cbf'\n",
    "output_dir = project_home + '/proc/secondlevel'\n",
    "brainfilename = '/alsop_cbf_warped_masked.nii'\n",
    "wkflow_dir = project_home + '/workflows'\n",
    "\n",
    "covariate_file = project_home + '/modelinfo/MCageCov.txt'\n",
    "groupinfo_path = project_home + '/modelinfo/'\n",
    "template = {'DIS': groupinfo_path + 'DIS.txt',\n",
    "           'RES': groupinfo_path + 'RES.txt',\n",
    "           'HRC': groupinfo_path + 'HRC.txt',\n",
    "           'HRNC': groupinfo_path + 'HRNC.txt',\n",
    "           'LRNC': groupinfo_path + 'LRNC.txt',\n",
    "           'HRD': groupinfo_path + 'HRD.txt',\n",
    "           'HRR': groupinfo_path + 'HRR.txt',\n",
    "           'LRD': groupinfo_path + 'LRD.txt',\n",
    "           'LRR': groupinfo_path + 'LRR.txt'}\n",
    "\n",
    "group1_file = template['DIS']\n",
    "group2_file = template['RES']"
   ]
  },
  {
   "cell_type": "code",
   "execution_count": null,
   "metadata": {
    "collapsed": false,
    "deletable": true,
    "editable": true
   },
   "outputs": [],
   "source": [
    "## Set up data for analysis\n",
    "\n",
    "# Import groups for contrast\n",
    "def defineGroups(group_file,proc_subj_dir,brainfilename):\n",
    "    from nipype import config, logging\n",
    "    config.enable_debug_mode()\n",
    "    logging.update_logging(config)   \n",
    "    \n",
    "    group = []\n",
    "    for line in open(group_file):\n",
    "        group.append(proc_subj_dir + '/' + line.strip() + brainfilename)\n",
    "    return(group)\n",
    "\n",
    "# Import covariates\n",
    "def importCovariate(covariate_file):\n",
    "    from nipype import config, logging\n",
    "    config.enable_debug_mode()\n",
    "    logging.update_logging(config)\n",
    "    \n",
    "    covDict = {}\n",
    "    with open(covariate_file) as f:\n",
    "        for line in f:\n",
    "            (subject,cov) = line.split()\n",
    "            covDict[subject] = cov\n",
    "    return covDict\n",
    "\n"
   ]
  },
  {
   "cell_type": "code",
   "execution_count": null,
   "metadata": {
    "collapsed": false,
    "scrolled": false
   },
   "outputs": [],
   "source": [
    "## Let's just script this shit for now will debug later\n",
    "\n",
    "group1 = defineGroups(group1_file,proc_subj_dir,brainfilename)\n",
    "group2 = defineGroups(group2_file,proc_subj_dir,brainfilename)\n",
    "ageCov = importCovariate(covariate_file)\n",
    "ttest = TwoSampleTTestDesign()\n",
    "ttest.inputs.group1_files = group1\n",
    "ttest.inputs.group2_files = group2\n",
    "ttest.inputs.spm_mat_dir = output_dir\n",
    "#ttest.inputs.covariates = ageCov\n",
    "ttest.run()\n",
    "\n",
    "\n",
    "\n"
   ]
  },
  {
   "cell_type": "code",
   "execution_count": null,
   "metadata": {
    "collapsed": false,
    "deletable": true,
    "editable": true
   },
   "outputs": [],
   "source": [
    "## Nodes for second level analyses in SPM\n",
    "\n",
    "# Set up 2 sample T-Test design\n",
    "ttest = Node(TwoSampleTTestDesign(),\n",
    "            name='ttest')\n",
    "\n",
    "# Given height and cluster size threshold calculate theoretical probabilities concerning false positives.\n",
    "#    I need to figure out a way to do these simulations using a nonparametric method, accounting for \n",
    "#    the fact that smoothing will be very different from BOLD and that the sample is small.\n",
    "threshStats = Node(ThresholdStatistics(),\n",
    "                  name='threshStats')\n",
    "\n",
    "# Run the actual T-Tests (estimate the contrast)\n",
    "est = Node(EstimateModel(),\n",
    "          name='est')\n",
    "\n",
    "# Compute Clusters\n",
    "\n"
   ]
  },
  {
   "cell_type": "code",
   "execution_count": null,
   "metadata": {
    "collapsed": false
   },
   "outputs": [],
   "source": [
    "## Turn functions into Nodes\n",
    "\n",
    "#define groups Node\n",
    "def_group1 = Node(name='def_group1',\n",
    "                interface=Function(input_names=['group_file',\n",
    "                                                'proc_subj_dir',\n",
    "                                                'brainfilename'],\n",
    "                                   output_names=['group'],\n",
    "                                   function=defineGroups))\n",
    "def_group1.inputs.proc_subj_dir=proc_subj_dir\n",
    "def_group1.inputs.brainfilename=brainfilename\n",
    "\n",
    "#define groups Node\n",
    "def_group2 = Node(name='def_group2',\n",
    "                interface=Function(input_names=['group_file',\n",
    "                                                'proc_subj_dir',\n",
    "                                                'brainfilename'],\n",
    "                                   output_names=['group'],\n",
    "                                   function=defineGroups))\n",
    "def_group2.inputs.proc_subj_dir=proc_subj_dir\n",
    "def_group2.inputs.brainfilename=brainfilename\n",
    "\n",
    "#Import Covariate Node\n",
    "import_covariate = Node(name='import_covariate',\n",
    "                        interface=Function(input_names=['covariate_file'],\n",
    "                                           output_names=['covDict'],\n",
    "                                           function=importCovariate))"
   ]
  },
  {
   "cell_type": "code",
   "execution_count": null,
   "metadata": {
    "collapsed": false
   },
   "outputs": [],
   "source": [
    "## Data handling nodes\n",
    "\n",
    "# Pull associated group lists\n",
    "selectgroup = Node(SelectFiles(template), name='selectgroup')\n"
   ]
  },
  {
   "cell_type": "code",
   "execution_count": null,
   "metadata": {
    "collapsed": false,
    "scrolled": true
   },
   "outputs": [],
   "source": [
    "## Create Second Level workflow\n",
    "secondlevel = Workflow(name='secondlevel')\n",
    "\n",
    "# connect the nodes\n",
    "secondlevel.connect([(selectgroup,def_group1,['DIS','group_file']),\n",
    "                     (selectgroup,def_group2,['RES','group_file']),\n",
    "                     (def_group1,ttest,['group','group1_files']),\n",
    "                     (def_group2,ttest,['group','group2_files'])\n",
    "                    ])\n",
    "secondlevel.base_dir = opj(wkflow_dir)\n",
    "secondlevel.write_graph(graph2use='flat')\n",
    "secondlevel.run('MultiProc', plugin_args={'n_procs': 4})"
   ]
  },
  {
   "cell_type": "code",
   "execution_count": null,
   "metadata": {
    "collapsed": true
   },
   "outputs": [],
   "source": []
  }
 ],
 "metadata": {
  "kernelspec": {
   "display_name": "Python 2",
   "language": "python",
   "name": "python2"
  },
  "language_info": {
   "codemirror_mode": {
    "name": "ipython",
    "version": 2
   },
   "file_extension": ".py",
   "mimetype": "text/x-python",
   "name": "python",
   "nbconvert_exporter": "python",
   "pygments_lexer": "ipython2",
   "version": "2.7.11"
  }
 },
 "nbformat": 4,
 "nbformat_minor": 2
}
