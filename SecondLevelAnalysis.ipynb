{
 "cells": [
  {
   "cell_type": "code",
   "execution_count": null,
   "metadata": {
    "collapsed": false,
    "deletable": true,
    "editable": true
   },
   "outputs": [],
   "source": [
    "import os\n",
    "from os.path import join as opj\n",
    "from nipype.pipeline.engine import Workflow, Node\n",
    "from nipype.interfaces.utility import Function, IdentityInterface\n",
    "from nipype.interfaces.io import SelectFiles, DataSink\n",
    "from nipype.interfaces.fsl.model import Randomise, Cluster\n",
    "from nipype.interfaces.fsl.utils import Merge, ImageMeants\n",
    "\n",
    "# MATLAB setup - Specify path to current SPM and the MATLAB's default mode\n",
    "from nipype.interfaces.matlab import MatlabCommand\n",
    "MatlabCommand.set_default_paths('/Users/catcamacho/spm12/toolbox')\n",
    "MatlabCommand.set_default_matlab_cmd(\"matlab -nodesktop -nosplash\")\n",
    "\n",
    "#other study-specific variables\n",
    "project_home = '/Users/catcamacho/Dropbox/Projects/TH_NAR_ASL/proc'\n",
    "proc_subj_dir = project_home + '/proc/masked_cbf'\n",
    "output_dir = project_home + '/proc/secondlevel'\n",
    "wkflow_dir = project_home + '/workflows'\n",
    "\n",
    "covariate_file = project_home + '/modelinfo/MCageCov.txt'\n",
    "t_contrasts = project_home + '/modelinfo/tcon.con'\n",
    "group_mat = project_home + '/modelinfo/groups.mat'"
   ]
  },
  {
   "cell_type": "code",
   "execution_count": null,
   "metadata": {
    "collapsed": true
   },
   "outputs": [],
   "source": [
    "# Data handling nodes\n"
   ]
  },
  {
   "cell_type": "code",
   "execution_count": null,
   "metadata": {
    "collapsed": true
   },
   "outputs": [],
   "source": [
    "# FSL randomise for higher level analysis\n",
    "highermodel = Node(Randomise(tfce=True,\n",
    "                             c_thresh=2.3,\n",
    "                             tcon=t_contrasts,\n",
    "                             raw_stats_imgs= True,\n",
    "                             num_perm= 500,\n",
    "                             design_mat=group_mat),\n",
    "                   name = 'highermodel')"
   ]
  }
 ],
 "metadata": {
  "kernelspec": {
   "display_name": "Python 2",
   "language": "python",
   "name": "python2"
  },
  "language_info": {
   "codemirror_mode": {
    "name": "ipython",
    "version": 2
   },
   "file_extension": ".py",
   "mimetype": "text/x-python",
   "name": "python",
   "nbconvert_exporter": "python",
   "pygments_lexer": "ipython2",
   "version": "2.7.11"
  }
 },
 "nbformat": 4,
 "nbformat_minor": 2
}
