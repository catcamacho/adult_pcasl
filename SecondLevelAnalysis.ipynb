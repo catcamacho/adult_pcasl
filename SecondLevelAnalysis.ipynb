{
 "cells": [
  {
   "cell_type": "code",
   "execution_count": null,
   "metadata": {
    "collapsed": true,
    "deletable": true,
    "editable": true
   },
   "outputs": [],
   "source": [
    "import os\n",
    "from glob import glob\n",
    "from os.path import join as opj\n",
    "\n",
    "from nipype.interfaces.spm.model import ThresholdStatistics, TwoSampleTTestDesign, EstimateContrast\n",
    "\n",
    "# MATLAB setup - Specify path to current SPM and the MATLAB's default mode\n",
    "from nipype.interfaces.matlab import MatlabCommand\n",
    "MatlabCommand.set_default_paths('~/spm12/toolbox')\n",
    "MatlabCommand.set_default_matlab_cmd(\"matlab -nodesktop -nosplash\")\n",
    "\n",
    "#other study-specific variables\n",
    "project_home = '/Users/catcamacho/Dropbox/Projects/TH_NAR_ASL/proc/dev'\n",
    "proc_subj_dir = project_home + '/proc/masked_cbf'\n",
    "output_dir = project_home + '/proc'\n",
    "\n",
    "covariates_file = project_home + '/modelinfo/covariates.csv'\n",
    "groups_files = project_home + '/modelinfo/groups.csv'"
   ]
  },
  {
   "cell_type": "code",
   "execution_count": null,
   "metadata": {
    "collapsed": true
   },
   "outputs": [],
   "source": [
    "## Set up data for analysis\n",
    "# Import groups for contrast\n",
    "\n",
    "# Import covariates"
   ]
  },
  {
   "cell_type": "code",
   "execution_count": null,
   "metadata": {
    "collapsed": true
   },
   "outputs": [],
   "source": [
    "## Nodes for second level analyses in SPM\n",
    "\n",
    "# Set up 2 sample T-Test design\n",
    "\n",
    "# Given height and cluster size threshold calculate theoretical probabilities concerning false positives.\n",
    "#    -I need to figure out a way to do these simulations using a nonparametric method, accounting for \n",
    "#    the fact that smoothing will be very different from fMRI and that the sample is small.\n",
    "\n",
    "# Run the actual T-Tests (estimate the contrast)\n",
    "\n",
    "# Compute Clusters\n"
   ]
  }
 ],
 "metadata": {
  "kernelspec": {
   "display_name": "Python 2",
   "language": "python",
   "name": "python2"
  },
  "language_info": {
   "codemirror_mode": {
    "name": "ipython",
    "version": 2
   },
   "file_extension": ".py",
   "mimetype": "text/x-python",
   "name": "python",
   "nbconvert_exporter": "python",
   "pygments_lexer": "ipython2",
   "version": "2.7.12"
  }
 },
 "nbformat": 4,
 "nbformat_minor": 2
}
