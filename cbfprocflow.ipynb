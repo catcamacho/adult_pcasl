{
 "cells": [
  {
   "cell_type": "code",
   "execution_count": 1,
   "metadata": {
    "collapsed": true,
    "deletable": true,
    "editable": true
   },
   "outputs": [],
   "source": [
    "import numpy as np\n",
    "import os\n",
    "from glob import glob\n",
    "import matplotlib.pyplot as plt\n",
    "import nibabel as nib\n",
    "from os.path import join as opj\n",
    "from numpy import median, rint\n",
    "\n",
    "from nipype.interfaces import freesurfer as fs\n",
    "from nipype.interfaces import spm\n",
    "from nipype.interfaces import fsl\n",
    "from nipype.interfaces.utility import Function, IdentityInterface\n",
    "from nipype.interfaces.io import FreeSurferSource, SelectFiles, DataSink\n",
    "from nipype.algorithms.misc import Gunzip\n",
    "from nipype.algorithms.modelgen import SpecifySPMModel\n",
    "from nipype.pipeline.engine import Workflow, Node, MapNode\n",
    "\n",
    "# MATLAB - Specify path to current SPM and the MATLAB's default mode\n",
    "from nipype.interfaces.matlab import MatlabCommand\n",
    "MatlabCommand.set_default_paths('~/spm12/toolbox')\n",
    "MatlabCommand.set_default_matlab_cmd(\"matlab -nodesktop -nosplash\")\n",
    "\n",
    "#other study-specific variables\n",
    "project_home = '/Users/catcamacho/Dropbox/Projects/TH_NAR_ASL/proc/dev'\n",
    "subjects_dir = project_home\n",
    "subjects_list = ['ko']\n",
    "raw_dir = 'raw'\n",
    "output_dir = 'proc'\n",
    "\n",
    "fs_dir = subjects_dir + '/freesurfer'\n",
    "template = project_home + '/template/avg152T1.nii'\n",
    "#fs.FSCommand.set_default_subjects_dir('/Volumes/iang/users/fischerAS/NART2_rest/NART2_freesurfer/subjDir')\n",
    "fs.FSCommand.set_default_subjects_dir(fs_dir)"
   ]
  },
  {
   "cell_type": "code",
   "execution_count": 4,
   "metadata": {
    "collapsed": false,
    "deletable": true,
    "editable": true
   },
   "outputs": [],
   "source": [
    "#anat nodes\n",
    "\n",
    "# Select subjects\n",
    "infosource = Node(IdentityInterface(fields=['subjid']),\n",
    "                  name=\"infosource\")\n",
    "infosource.iterables = [('subjid', subjects_list)]\n",
    "\n",
    "# SelectFiles\n",
    "templates = {'cbf': subjects_dir + '/scannerproc/{subjid}/cbf.nii.gz'}\n",
    "selectfiles = Node(SelectFiles(templates), name=\"selectfiles\")\n",
    "\n",
    "# FreeSurferSource - Data grabber specific for FreeSurfer data\n",
    "fssource = Node(FreeSurferSource(subjects_dir=fs_dir),\n",
    "                run_without_submitting=True,\n",
    "                name='fssource')\n",
    "\n",
    "# BBRegister - coregister a volume to the Freesurfer anatomical\n",
    "bbregister = Node(fs.BBRegister(init='header',\n",
    "                             contrast_type='t2',\n",
    "                             out_fsl_file=True),\n",
    "                  name='bbregister')\n",
    "\n",
    "# Volume Transformation - transform the brainmask into functional space\n",
    "applyVolTrans = Node(fs.ApplyVolTransform(inverse=True),\n",
    "                     name='applyVolTrans')\n",
    "\n",
    "# Binarize -  binarize and dilate an image to create a brainmask\n",
    "binarize = Node(fs.Binarize(min=0.5,\n",
    "                         dilate=1,\n",
    "                         out_type='nii'),\n",
    "                name='binarize')\n",
    "\n",
    "# Realign\n",
    "realign = Node(spm.Realign(register_to_mean=True),\n",
    "               name=\"realign\")\n",
    "\n",
    "# Datasink\n",
    "datasink = Node(DataSink(), name=\"datasink\")\n",
    "datasink.inputs.base_directory = output_dir\n",
    "datasink.inputs.container = output_dir"
   ]
  },
  {
   "cell_type": "code",
   "execution_count": 6,
   "metadata": {
    "collapsed": false,
    "deletable": true,
    "editable": true
   },
   "outputs": [
    {
     "ename": "Exception",
     "evalue": "Some connections were not found\nModule bbregister has no input called target_file\n",
     "output_type": "error",
     "traceback": [
      "\u001b[0;31m---------------------------------------------------------------------------\u001b[0m",
      "\u001b[0;31mException\u001b[0m                                 Traceback (most recent call last)",
      "\u001b[0;32m<ipython-input-6-d623c8509ea5>\u001b[0m in \u001b[0;36m<module>\u001b[0;34m()\u001b[0m\n\u001b[1;32m      8\u001b[0m                       \u001b[0;34m(\u001b[0m\u001b[0mbbregister\u001b[0m\u001b[0;34m,\u001b[0m \u001b[0mapplyVolTrans\u001b[0m\u001b[0;34m,\u001b[0m \u001b[0;34m[\u001b[0m\u001b[0;34m(\u001b[0m\u001b[0;34m'out_reg_file'\u001b[0m\u001b[0;34m,\u001b[0m \u001b[0;34m'reg_file'\u001b[0m\u001b[0;34m)\u001b[0m\u001b[0;34m]\u001b[0m\u001b[0;34m)\u001b[0m\u001b[0;34m,\u001b[0m\u001b[0;34m\u001b[0m\u001b[0m\n\u001b[1;32m      9\u001b[0m                       \u001b[0;34m(\u001b[0m\u001b[0mrealign\u001b[0m\u001b[0;34m,\u001b[0m \u001b[0mapplyVolTrans\u001b[0m\u001b[0;34m,\u001b[0m \u001b[0;34m[\u001b[0m\u001b[0;34m(\u001b[0m\u001b[0;34m'mean_image'\u001b[0m\u001b[0;34m,\u001b[0m \u001b[0;34m'source_file'\u001b[0m\u001b[0;34m)\u001b[0m\u001b[0;34m]\u001b[0m\u001b[0;34m)\u001b[0m\u001b[0;34m,\u001b[0m\u001b[0;34m\u001b[0m\u001b[0m\n\u001b[0;32m---> 10\u001b[0;31m                       \u001b[0;34m(\u001b[0m\u001b[0mapplyVolTrans\u001b[0m\u001b[0;34m,\u001b[0m \u001b[0mbinarize\u001b[0m\u001b[0;34m,\u001b[0m \u001b[0;34m[\u001b[0m\u001b[0;34m(\u001b[0m\u001b[0;34m'transformed_file'\u001b[0m\u001b[0;34m,\u001b[0m \u001b[0;34m'in_file'\u001b[0m\u001b[0;34m)\u001b[0m\u001b[0;34m]\u001b[0m\u001b[0;34m)\u001b[0m\u001b[0;34m,\u001b[0m\u001b[0;34m\u001b[0m\u001b[0m\n\u001b[0m\u001b[1;32m     11\u001b[0m                      ])\n\u001b[1;32m     12\u001b[0m \u001b[0manatprocflow\u001b[0m\u001b[0;34m.\u001b[0m\u001b[0mwrite_graph\u001b[0m\u001b[0;34m(\u001b[0m\u001b[0mgraph2use\u001b[0m\u001b[0;34m=\u001b[0m\u001b[0;34m'flat'\u001b[0m\u001b[0;34m)\u001b[0m\u001b[0;34m\u001b[0m\u001b[0m\n",
      "\u001b[0;32m/usr/local/lib/python2.7/site-packages/nipype/pipeline/engine/workflows.pyc\u001b[0m in \u001b[0;36mconnect\u001b[0;34m(self, *args, **kwargs)\u001b[0m\n\u001b[1;32m    242\u001b[0m         \u001b[0;32mif\u001b[0m \u001b[0mnot_found\u001b[0m\u001b[0;34m:\u001b[0m\u001b[0;34m\u001b[0m\u001b[0m\n\u001b[1;32m    243\u001b[0m             raise Exception('\\n'.join(['Some connections were not found'] +\n\u001b[0;32m--> 244\u001b[0;31m                                       infostr))\n\u001b[0m\u001b[1;32m    245\u001b[0m \u001b[0;34m\u001b[0m\u001b[0m\n\u001b[1;32m    246\u001b[0m         \u001b[0;31m# turn functions into strings\u001b[0m\u001b[0;34m\u001b[0m\u001b[0;34m\u001b[0m\u001b[0m\n",
      "\u001b[0;31mException\u001b[0m: Some connections were not found\nModule bbregister has no input called target_file\n"
     ]
    }
   ],
   "source": [
    "# Create a preprocessing workflow\n",
    "anatprocflow = Workflow(name='anatprocflow')\n",
    "\n",
    "# Connect all components of the preprocessing workflow\n",
    "anatprocflow.connect([(infosource, selectfiles, [('subjid', 'subjid')]),\n",
    "                      (selectfiles, bbregister, [('cbf', 'source_file')]),\n",
    "                      (fssource, bbregister, [('brainmask', 'target_file')]),\n",
    "                      (bbregister, applyVolTrans, [('out_reg_file', 'reg_file')]),\n",
    "                      (realign, applyVolTrans, [('mean_image', 'source_file')]),\n",
    "                      (applyVolTrans, binarize, [('transformed_file', 'in_file')]),\n",
    "                     ])\n",
    "anatprocflow.write_graph(graph2use='flat')\n",
    "anatprocflow.run('MultiProc', plugin_args={'n_procs': 2})"
   ]
  },
  {
   "cell_type": "code",
   "execution_count": 5,
   "metadata": {
    "collapsed": true,
    "deletable": true,
    "editable": true
   },
   "outputs": [],
   "source": [
    "# cbfprcoflow nodes\n",
    "\n",
    "# Infosource - a function free node to iterate over the list of subject names\n",
    "infosource = Node(IdentityInterface(fields=['subjid']),\n",
    "                  name=\"infosource\")\n",
    "infosource.iterables = [('subjid', subjects_list)]\n",
    "\n",
    "# SelectFiles\n",
    "templates = {'func': subjects_dir + '/raw/{subjid}/cbf.nii.gz'}\n",
    "selectfiles = Node(SelectFiles(templates), name=\"selectfiles\")\n",
    "\n",
    "#gunzip\n",
    "gunzip = Node(Gunzip(), name=\"gunzip\")\n",
    "\n",
    "#spatial normalization\n",
    "norm = Node(spm.Normalize(template=template), name=\"norm\")\n",
    "\n",
    "# Datasink\n",
    "datasink = Node(DataSink(), name=\"datasink\")\n",
    "datasink.inputs.base_directory = output_dir\n",
    "datasink.inputs.container = output_dir"
   ]
  },
  {
   "cell_type": "code",
   "execution_count": 6,
   "metadata": {
    "collapsed": false,
    "deletable": true,
    "editable": true
   },
   "outputs": [
    {
     "name": "stdout",
     "output_type": "stream",
     "text": [
      "170228-11:55:35,478 workflow INFO:\n",
      "\t Creating detailed dot file: /Users/myelin/Documents/asl_practice/subs/cbfprocflow/graph_detailed.dot\n",
      "170228-11:55:35,569 workflow INFO:\n",
      "\t Creating dot file: /Users/myelin/Documents/asl_practice/subs/cbfprocflow/graph.dot\n",
      "170228-11:55:35,642 workflow INFO:\n",
      "\t ['check', 'execution', 'logging']\n",
      "170228-11:55:35,654 workflow INFO:\n",
      "\t Running in parallel.\n",
      "170228-11:55:35,657 workflow INFO:\n",
      "\t Executing: selectfiles.a0 ID: 0\n",
      "170228-11:55:35,669 workflow INFO:\n",
      "\t Executing node selectfiles.a0 in dir: /Users/myelin/Documents/asl_practice/subs/cbfprocflow/_subjid_ko/selectfiles\n",
      "170228-11:55:35,694 workflow INFO:\n",
      "\t Runtime memory and threads stats unavailable\n",
      "170228-11:55:35,698 workflow INFO:\n",
      "\t [Job finished] jobname: selectfiles.a0 jobid: 0\n",
      "170228-11:55:35,702 workflow INFO:\n",
      "\t Executing: gunzip.a0 ID: 1\n",
      "170228-11:55:35,713 workflow INFO:\n",
      "\t Executing node gunzip.a0 in dir: /Users/myelin/Documents/asl_practice/subs/cbfprocflow/_subjid_ko/gunzip\n",
      "170228-11:55:35,765 workflow INFO:\n",
      "\t Runtime memory and threads stats unavailable\n",
      "170228-11:55:35,771 workflow INFO:\n",
      "\t [Job finished] jobname: gunzip.a0 jobid: 1\n",
      "170228-11:55:35,775 workflow INFO:\n",
      "\t Executing: norm.a0 ID: 2\n",
      "170228-11:55:35,785 workflow INFO:\n",
      "\t Executing node norm.a0 in dir: /Users/myelin/Documents/asl_practice/subs/cbfprocflow/_subjid_ko/norm\n",
      "170228-11:56:45,461 workflow INFO:\n",
      "\t Runtime memory and threads stats unavailable\n",
      "170228-11:56:45,466 workflow INFO:\n",
      "\t [Job finished] jobname: norm.a0 jobid: 2\n",
      "170228-11:56:45,469 workflow INFO:\n",
      "\t Executing: datasink.a0 ID: 3\n",
      "170228-11:56:45,480 workflow INFO:\n",
      "\t Executing node datasink.a0 in dir: /Users/myelin/Documents/asl_practice/subs/cbfprocflow/_subjid_ko/datasink\n",
      "170228-11:56:45,500 workflow INFO:\n",
      "\t Runtime memory and threads stats unavailable\n",
      "170228-11:56:45,504 workflow INFO:\n",
      "\t [Job finished] jobname: datasink.a0 jobid: 3\n"
     ]
    },
    {
     "data": {
      "text/plain": [
       "<networkx.classes.digraph.DiGraph at 0x10fca6310>"
      ]
     },
     "execution_count": 6,
     "metadata": {},
     "output_type": "execute_result"
    }
   ],
   "source": [
    "\n",
    "cbfprocflow = Workflow(name=\"cbfprocflow\")\n",
    "## Definitely needs to register to anat then register anat to template then apply same transform to cbf. \n",
    "## There is not cutting out those steps sadly.\n",
    "\n",
    "cbfprocflow.base_dir = opj(subjects_dir)\n",
    "cbfprocflow.connect([(infosource, selectfiles, [('subjid', 'subjid')]),\n",
    "                     (selectfiles, gunzip, [('func', 'in_file')]),\n",
    "                     (gunzip, norm,[('out_file','source')]),\n",
    "                     (norm, datasink, [('normalized_source', 'norm')]),\n",
    "                    ])\n",
    "cbfprocflow.write_graph(graph2use='flat')\n",
    "cbfprocflow.run('MultiProc', plugin_args={'n_procs': 2})\n",
    "\n"
   ]
  },
  {
   "cell_type": "code",
   "execution_count": null,
   "metadata": {
    "collapsed": true,
    "deletable": true,
    "editable": true
   },
   "outputs": [],
   "source": []
  }
 ],
 "metadata": {
  "kernelspec": {
   "display_name": "Python 2",
   "language": "python",
   "name": "python2"
  },
  "language_info": {
   "codemirror_mode": {
    "name": "ipython",
    "version": 2
   },
   "file_extension": ".py",
   "mimetype": "text/x-python",
   "name": "python",
   "nbconvert_exporter": "python",
   "pygments_lexer": "ipython2",
   "version": "2.7.11"
  }
 },
 "nbformat": 4,
 "nbformat_minor": 2
}
