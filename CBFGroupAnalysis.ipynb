{
 "cells": [
  {
   "cell_type": "code",
   "execution_count": null,
   "metadata": {
    "collapsed": false,
    "deletable": true,
    "editable": true
   },
   "outputs": [],
   "source": [
    "import os\n",
    "from os.path import join as opj\n",
    "from nipype.pipeline.engine import Workflow, Node\n",
    "from nipype.interfaces.utility import Function, IdentityInterface\n",
    "from nipype.interfaces.io import SelectFiles, DataSink, DataGrabber\n",
    "from nipype.interfaces.fsl.model import Randomise, Cluster\n",
    "from nipype.interfaces.fsl.utils import Merge, ImageMeants\n",
    "\n",
    "#other study-specific variables\n",
    "project_home = '/Users/catcamacho/Dropbox/Projects/TH_NAR_ASL/proc'\n",
    "preproc_dir = project_home + '/proc/preprocessing'\n",
    "output_dir = project_home + '/proc/secondlevel'\n",
    "wkflow_dir = project_home + '/workflows'\n",
    "mask = project_home + '/template/MNI_2mm_GM_mask.nii'\n",
    "\n",
    "#covariate_file = project_home + '/modelinfo/MCageCov.txt'\n",
    "t_contrasts = project_home + '/misc/tcon.con'\n",
    "group_mat = project_home + '/misc/design.mat'"
   ]
  },
  {
   "cell_type": "code",
   "execution_count": null,
   "metadata": {
    "collapsed": true
   },
   "outputs": [],
   "source": [
    "# Data handling nodes\n",
    "grabcbfdata = Node(DataGrabber(template=preproc_dir + '/std_cbf/*/swarped_cbf.nii', \n",
    "                               sort_filelist=True, \n",
    "                               outfields=['cbf_list']), \n",
    "                   name='grabcbf')\n",
    "\n",
    "# Datasink\n",
    "datasink = Node(DataSink(base_directory = output_dir, \n",
    "                         container = output_dir), \n",
    "                name='datasink')\n",
    "\n",
    "# DataSink output substitutions (for ease of folder naming)\n",
    "substitutions = [('_subjid_', '')]\n",
    "datasink.inputs.substitutions = substitutions"
   ]
  },
  {
   "cell_type": "code",
   "execution_count": null,
   "metadata": {
    "collapsed": false
   },
   "outputs": [],
   "source": [
    "merge_cbf = Node(Merge(dimension = 't'), name='merge_cbf')\n",
    "\n",
    "# FSL randomise for higher level analysis\n",
    "highermodel = Node(Randomise(tfce=True,\n",
    "                             c_thresh=2,\n",
    "                             tcon=t_contrasts,\n",
    "                             raw_stats_imgs= True,\n",
    "                             mask=mask,\n",
    "                             num_perm= 1000,\n",
    "                             design_mat=group_mat),\n",
    "                   name = 'highermodel')"
   ]
  },
  {
   "cell_type": "code",
   "execution_count": null,
   "metadata": {
    "collapsed": false,
    "scrolled": true
   },
   "outputs": [],
   "source": [
    "cbf_groupflow = Workflow(name='cbf_groupflow')\n",
    "cbf_groupflow.connect([(grabcbfdata,merge_cbf, [('cbf_list','in_files')]),\n",
    "                       (merge_cbf,highermodel, [('merged_file','in_file')]),\n",
    "                       (highermodel,datasink, [('t_corrected_p_files','t_corrected_p_files')]),\n",
    "                       (highermodel,datasink, [('t_p_files','t_p_files')]),\n",
    "                       (highermodel,datasink, [('tstat_files','tstat_files')])\n",
    "                      ])\n",
    "cbf_groupflow.base_dir = wkflow_dir\n",
    "cbf_groupflow.write_graph(graph2use='flat')\n",
    "cbf_groupflow.run('MultiProc', plugin_args={'n_procs': 2})"
   ]
  },
  {
   "cell_type": "code",
   "execution_count": null,
   "metadata": {
    "collapsed": true
   },
   "outputs": [],
   "source": []
  }
 ],
 "metadata": {
  "kernelspec": {
   "display_name": "Python 2",
   "language": "python",
   "name": "python2"
  },
  "language_info": {
   "codemirror_mode": {
    "name": "ipython",
    "version": 2
   },
   "file_extension": ".py",
   "mimetype": "text/x-python",
   "name": "python",
   "nbconvert_exporter": "python",
   "pygments_lexer": "ipython2",
   "version": "2.7.11"
  }
 },
 "nbformat": 4,
 "nbformat_minor": 2
}
