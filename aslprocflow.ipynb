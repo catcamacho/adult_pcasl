{
 "cells": [
  {
   "cell_type": "code",
   "execution_count": 17,
   "metadata": {
    "collapsed": false,
    "deletable": true,
    "editable": true
   },
   "outputs": [],
   "source": [
    "import numpy as np\n",
    "from glob import glob\n",
    "import nibabel as nib\n",
    "from os.path import join as opj\n",
    "\n",
    "from nipype.interfaces import spm\n",
    "from nipype.interfaces import fsl\n",
    "from nipype.interfaces.utility import Function, IdentityInterface\n",
    "from nipype.interfaces.io import SelectFiles, DataSink\n",
    "from nipype.algorithms.misc import Gunzip\n",
    "from nipype.pipeline.engine import Workflow, Node, MapNode\n",
    "\n",
    "# MATLAB - Specify path to current SPM and the MATLAB's default mode\n",
    "from nipype.interfaces.matlab import MatlabCommand\n",
    "MatlabCommand.set_default_paths('~/spm12/toolbox')\n",
    "MatlabCommand.set_default_matlab_cmd(\"matlab -nodesktop -nosplash\")\n",
    "\n",
    "#other study-specific variables\n",
    "project_home = '/Users/myelin/Dropbox/Projects/TH_NAR_ASL/proc/dev'\n",
    "subjects_dir = project_home\n",
    "subjects_list = ['ko']\n",
    "raw_dir = 'raw'\n",
    "output_dir = 'proc'\n",
    "\n",
    "#pre-proc variables\n",
    "TR = 4.844\n",
    "\n",
    "#Population specific variables for ASL\n",
    "nex_asl = 1 #number of excitations from the 3D ASL scan parameters\n",
    "inversion_efficiency = 0.8 #from GE\n",
    "background_supp_eff = 0.75 #from GE\n",
    "efficiency = inversion_efficiency * background_supp_eff \n",
    "T1_blood = 1.6 #T1 of blood in seconds(1.6s at 3T and 1.4s at 1.5T)\n",
    "sat_time = 2 #in seconds, from GE\n",
    "partition_coeff = 0.9 #whole brain average in ml/g\n",
    "scaling_factor = 32 #scaling factor, can be taken from PW dicom header at position 0043,107f\n",
    "postlabel_delay = 2.025 #1.525 #post label delay in seconds\n",
    "labeling_time = 1.450 #labeling time in seconds\n",
    "T1_tissue = 1.2 #estimated T1 of grey matter in seconds"
   ]
  },
  {
   "cell_type": "code",
   "execution_count": 33,
   "metadata": {
    "collapsed": false,
    "deletable": true,
    "editable": true
   },
   "outputs": [],
   "source": [
    "# preprocflow nodes\n",
    "\n",
    "# Infosource - a function free node to iterate over the list of subject names\n",
    "infosource = Node(IdentityInterface(fields=['subjid']),\n",
    "                  name=\"infosource\")\n",
    "infosource.iterables = [('subjid', subjects_list)]\n",
    "\n",
    "# SelectFiles\n",
    "templates = {'pw': subjects_dir + '/raw/{subjid}/pw.nii.gz',\n",
    "             'pd': subjects_dir + '/raw/{subjid}/pd.nii.gz'}\n",
    "selectfiles = Node(SelectFiles(templates), name=\"selectfiles\")\n",
    "\n",
    "#gunzip\n",
    "gunzip = Node(Gunzip(), name=\"gunzip\")\n",
    "\n",
    "# Datasink\n",
    "datasink = Node(DataSink(), name=\"datasink\")\n",
    "datasink.inputs.base_directory = output_dir\n",
    "datasink.inputs.container = output_dir\n",
    "\n",
    "#quantify CBF from PW volume\n",
    "def quantify_cbf(pw_nifti1,pd_nifti1,sat_time,T1_tissue,postlabel_delay,T1_blood,labeling_time,efficiency,nex_asl,scaling_factor):\n",
    "    # set variables\n",
    "    pw_data = pw_nifti1.get_data()\n",
    "    pd_data = pd_nifti1.get_data()\n",
    "    conversion = 6000 #to convert values from mL/g/s to mL/100g/min\n",
    "    PDthresh = 0.5*(np.sum(pd_data**2)/np.sum(pd_data))\n",
    "    \n",
    "    cbf_numerator = (1-np.exp(sat_time/T1_tissue))*np.exp(postlabel_delay/T1_blood)\n",
    "    cbf_denominator = 2*T1_blood*(1-np.exp(labeling_time/T1_blood))*efficiency*nex_asl\n",
    "    cbf_data = conversion*(cbf_numerator/cbf_denominator)*(pw_data/(scaling_factor*pd_data))\n",
    "    \n",
    "    cbf_vol = nib.Nifti1Image(cbf_data, pw_nifti1.affine)\n",
    "    nib.save(cbf_vol,project_home + '/raw/ko/cbf_vol.nii.gz')"
   ]
  },
  {
   "cell_type": "code",
   "execution_count": 34,
   "metadata": {
    "collapsed": false,
    "deletable": true,
    "editable": true
   },
   "outputs": [
    {
     "name": "stdout",
     "output_type": "stream",
     "text": [
      "4.0\n",
      "646673196\n",
      "73026900\n"
     ]
    },
    {
     "name": "stderr",
     "output_type": "stream",
     "text": [
      "/usr/local/lib/python2.7/site-packages/ipykernel/__main__.py:46: RuntimeWarning: divide by zero encountered in divide\n",
      "/usr/local/lib/python2.7/site-packages/ipykernel/__main__.py:46: RuntimeWarning: invalid value encountered in divide\n"
     ]
    }
   ],
   "source": [
    "pw_nifti1 = nib.load(project_home + '/raw/ko/pw.nii.gz')\n",
    "pd_nifti1 = nib.load(project_home + '/raw/ko/pd.nii.gz')\n",
    "quantify_cbf(pw_nifti1,pd_nifti1,sat_time,T1_tissue,postlabel_delay,T1_blood,labeling_time,efficiency,nex_asl,scaling_factor)\n"
   ]
  },
  {
   "cell_type": "code",
   "execution_count": null,
   "metadata": {
    "collapsed": true,
    "deletable": true,
    "editable": true
   },
   "outputs": [],
   "source": [
    "aslprocflow = Workflow(name=\"aslprocflow\")\n",
    "\n",
    "aslprocflow.base_dir = opj(subjects_dir)\n",
    "aslprocflow.connect([(infosource, selectfiles, [('subjid', 'subjid')]),\n",
    "                     (selectfiles, gunzip, [('pw', 'in_file')]),\n",
    "                     (gunzip, \n",
    "                    ])\n",
    "aslprocflow.write_graph(graph2use='flat')\n",
    "aslprocflow.run('MultiProc', plugin_args={'n_procs': 2})"
   ]
  }
 ],
 "metadata": {
  "kernelspec": {
   "display_name": "Python 2",
   "language": "python",
   "name": "python2"
  },
  "language_info": {
   "codemirror_mode": {
    "name": "ipython",
    "version": 2
   },
   "file_extension": ".py",
   "mimetype": "text/x-python",
   "name": "python",
   "nbconvert_exporter": "python",
   "pygments_lexer": "ipython2",
   "version": "2.7.11"
  }
 },
 "nbformat": 4,
 "nbformat_minor": 2
}
