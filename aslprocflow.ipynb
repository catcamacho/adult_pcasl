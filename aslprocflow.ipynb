{
 "cells": [
  {
   "cell_type": "code",
   "execution_count": 6,
   "metadata": {
    "collapsed": false,
    "deletable": true,
    "editable": true
   },
   "outputs": [],
   "source": [
    "import numpy as np\n",
    "from glob import glob\n",
    "import nibabel as nib\n",
    "from os.path import join as opj\n",
    "from numpy import median, rint, nan\n",
    "\n",
    "from nipype.interfaces import spm\n",
    "from nipype.interfaces import fsl\n",
    "from nipype.interfaces.utility import Function, IdentityInterface\n",
    "from nipype.interfaces.io import SelectFiles, DataSink\n",
    "from nipype.algorithms.misc import Gunzip\n",
    "from nipype.pipeline.engine import Workflow, Node, MapNode\n",
    "\n",
    "# MATLAB - Specify path to current SPM and the MATLAB's default mode\n",
    "from nipype.interfaces.matlab import MatlabCommand\n",
    "MatlabCommand.set_default_paths('~/spm12/toolbox')\n",
    "MatlabCommand.set_default_matlab_cmd(\"matlab -nodesktop -nosplash\")\n",
    "\n",
    "#other study-specific variables\n",
    "project_home = '/Users/catcamacho/Dropbox/Projects/TH_NAR_ASL/proc/dev'\n",
    "subjects_dir = project_home\n",
    "subjects_list = ['ko']\n",
    "raw_dir = 'raw'\n",
    "output_dir = 'proc'\n",
    "\n",
    "#pre-proc variables\n",
    "numslices = 38\n",
    "TR = 4.844\n",
    "asl_slice_order = range(1,numslices+1)\n",
    "middle_slice = np.around(median(asl_slice_order), decimals=-1)\n",
    "middle_slice = middle_slice.astype(int)\n",
    "\n",
    "#Population specific variables for ASL\n",
    "nex_asl = 3 #number of excitations from the 3D ASL scan parameters\n",
    "inversion_efficiency = 0.8 #from GE\n",
    "background_supp_eff = 0.75 #from GE\n",
    "efficiency = inversion_efficiency * background_supp_eff \n",
    "T1_blood = 1.6 #T1 of blood in seconds(1.6s at 3T and 1.4s at 1.5T)\n",
    "sat_time = 2 #in seconds, from GE\n",
    "partition_coeff = 0.9 #whole brain average in ml/g\n",
    "scaling_factor = 32 #scaling factor, can be taken from PW dicom header\n",
    "postlabel_delay = 2.025 #1.525 #post label delay in seconds\n",
    "labeling_time = 1.450 #labeling time in seconds\n",
    "T1gm = 1.2 #estimated T1 of grey matter"
   ]
  },
  {
   "cell_type": "code",
   "execution_count": 11,
   "metadata": {
    "collapsed": false,
    "deletable": true,
    "editable": true
   },
   "outputs": [],
   "source": [
    "# preprocflow nodes\n",
    "\n",
    "# Infosource - a function free node to iterate over the list of subject names\n",
    "infosource = Node(IdentityInterface(fields=['subjid']),\n",
    "                  name=\"infosource\")\n",
    "infosource.iterables = [('subjid', subjects_list)]\n",
    "\n",
    "# SelectFiles\n",
    "templates = {'asl': subjects_dir + '/raw/{subjid}/asl.nii.gz',\n",
    "             'pw': subjects_dir + '/raw/{subjid}/pw.nii.gz',\n",
    "             'pd': subjects_dir + '/raw/{subjid}/pd.nii.gz'}\n",
    "selectfiles = Node(SelectFiles(templates), name=\"selectfiles\")\n",
    "\n",
    "#gunzip\n",
    "gunzip = Node(Gunzip(), name=\"gunzip\")\n",
    "\n",
    "# Datasink\n",
    "datasink = Node(DataSink(), name=\"datasink\")\n",
    "datasink.inputs.base_directory = output_dir\n",
    "datasink.inputs.container = output_dir\n",
    "\n",
    "#split ASL sequence into pw.nii and pd.nii\n",
    "def split_asl_vols(asl, pw, pd):\n",
    "\ttrim.inputs.in_file = asl\n",
    "\ttrim.inputs.out_file = pw\n",
    "\ttrim.inputs.end_index = 1\n",
    "\ttrim.run()\n",
    "\ttrim.inputs.out_file = pd\n",
    "\ttrim.inputs.end_index = 2\n",
    "\ttrim.inputs.begin_index = 1\n",
    "\ttrim.run()\n",
    "\n",
    "#quantify CBF from PW volume\n",
    "def quantify_cbf(pw_nifti1,pd_nifti1,efficiency,T1_blood,partition_coeff,scaling_factor,postlabel_delay,labeling_time,TR,T1gm):\n",
    "    # set variables\n",
    "    pw_data = pw_nifti1.get_data()\n",
    "    pd_data = pd_nifti1.get_data()\n",
    "    #pd_data = pd_data.astype(float)\n",
    "    #pd_nonzero_data = pd_data[pd_data==0]=nan\n",
    "    conversion = 6000 #to convert values from mL/g/s to mL/100g/min\n",
    "    \n",
    "    cbf_numerator = (conversion*partition_coeff*pw_data)*(np.exp(postlabel_delay/T1_blood))\n",
    "    cbf_denominator = (2*efficiency*T1_blood)*(pd_data*(1/(1-np.exp((-1*TR)/T1gm))))*(1-np.exp((-1*labeling_time)/T1_blood))\n",
    "    cbf_data = cbf_numerator/cbf_denominator\n",
    "    \n",
    "    cbf_vol = nib.Nifti1Image(cbf_data, pw_nifti1.affine)\n",
    "    nib.save(cbf_vol,project_home + '/raw/ko/cbf_vol.nii.gz')"
   ]
  },
  {
   "cell_type": "code",
   "execution_count": 12,
   "metadata": {
    "collapsed": false,
    "deletable": true,
    "editable": true
   },
   "outputs": [
    {
     "name": "stderr",
     "output_type": "stream",
     "text": [
      "/usr/local/lib/python2.7/site-packages/ipykernel/__main__.py:44: RuntimeWarning: divide by zero encountered in divide\n",
      "/usr/local/lib/python2.7/site-packages/ipykernel/__main__.py:44: RuntimeWarning: invalid value encountered in divide\n"
     ]
    }
   ],
   "source": [
    "pw_nifti1 = nib.load(project_home + '/raw/ko/pw.nii.gz')\n",
    "pd_nifti1 = nib.load(project_home + '/raw/ko/pd.nii.gz')\n",
    "quantify_cbf(pw_nifti1,pd_nifti1,efficiency,T1_blood,partition_coeff,scaling_factor,postlabel_delay,labeling_time,TR,T1gm)\n"
   ]
  },
  {
   "cell_type": "code",
   "execution_count": null,
   "metadata": {
    "collapsed": true,
    "deletable": true,
    "editable": true
   },
   "outputs": [],
   "source": [
    "aslprocflow = Workflow(name=\"aslprocflow\")\n",
    "\n",
    "aslprocflow.base_dir = opj(subjects_dir)\n",
    "aslprocflow.connect([(infosource, selectfiles, [('subjid', 'subjid')]),\n",
    "                     (selectfiles, gunzip, [('func', 'in_file')]),\n",
    "                     (gunzip, slice_timing, [('out_file','in_file')]),\n",
    "                     (slice_timing, datasink, [('slice_time_corrected_file', 'slice_timing')]),\n",
    "                     (slice_timing, norm,[('slice_time_corrected_file','source')]),\n",
    "                     (norm, datasink, [('normalized_source', 'norm')]),\n",
    "                    ])\n",
    "aslprocflow.write_graph(graph2use='flat')\n",
    "aslprocflow.run('MultiProc', plugin_args={'n_procs': 2})"
   ]
  }
 ],
 "metadata": {
  "kernelspec": {
   "display_name": "Python 2",
   "language": "python",
   "name": "python2"
  },
  "language_info": {
   "codemirror_mode": {
    "name": "ipython",
    "version": 2
   },
   "file_extension": ".py",
   "mimetype": "text/x-python",
   "name": "python",
   "nbconvert_exporter": "python",
   "pygments_lexer": "ipython2",
   "version": "2.7.11"
  }
 },
 "nbformat": 4,
 "nbformat_minor": 2
}
