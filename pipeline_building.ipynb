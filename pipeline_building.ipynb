{
 "cells": [
  {
   "cell_type": "code",
   "execution_count": 25,
   "metadata": {
    "collapsed": false,
    "deletable": true,
    "editable": true
   },
   "outputs": [],
   "source": [
    "#%matplotlib\n",
    "import numpy as np\n",
    "import os\n",
    "from glob import glob\n",
    "import matplotlib.pyplot as plt\n",
    "import nibabel as nib\n",
    "from os.path import join as opj\n",
    "from numpy import median, rint, NA\n",
    "\n",
    "from nipype.interfaces import freesurfer as fs\n",
    "from nipype.interfaces import spm\n",
    "from nipype.interfaces import fsl\n",
    "from nipype.interfaces.utility import Function, IdentityInterface\n",
    "from nipype.interfaces.io import FreeSurferSource, SelectFiles, DataSink\n",
    "from nipype.algorithms.misc import Gunzip\n",
    "from nipype.algorithms.modelgen import SpecifySPMModel\n",
    "from nipype.pipeline.engine import Workflow, Node, MapNode\n",
    "\n",
    "# MATLAB - Specify path to current SPM and the MATLAB's default mode\n",
    "from nipype.interfaces.matlab import MatlabCommand\n",
    "MatlabCommand.set_default_paths('~/spm12/toolbox')\n",
    "MatlabCommand.set_default_matlab_cmd(\"matlab -nodesktop -nosplash\")\n",
    "project_home = '/Users/myelin/Documents/asl_practice'\n",
    "\n",
    "# FreeSurfer - Specify the location of the freesurfer folder\n",
    "fs_dir = project_home + '/subs/freesurfer'\n",
    "fs.FSCommand.set_default_subjects_dir(fs_dir)\n",
    "\n",
    "#other study-specific variables\n",
    "subjects_dir = project_home + '/subs'\n",
    "subjects_list = ['ko']\n",
    "raw_dir = 'raw'\n",
    "output_dir = 'proc'\n",
    "template = project_home + '/template/avg152T1.nii'\n",
    "\n",
    "#pre-proc variables\n",
    "numslices = 38\n",
    "TR = 4.844\n",
    "asl_slice_order = range(1,numslices+1)\n",
    "middle_slice = np.around(median(asl_slice_order), decimals=-1)\n",
    "middle_slice = middle_slice.astype(int)\n",
    "#tpmfile = nib.load('~/spm12/tpm/TPM.nii')\n",
    "\n",
    "#Population specific variables for ASL\n",
    "T1_gm = 1.2 #T1 of gray matter tissue in seconds (for CBF quantification)\n",
    "nex_asl = 3 #number of excitations from the 3D ASL scan parameters\n",
    "inversion_efficiency = 0.8 #from GE\n",
    "background_supp_eff = 0.75 #from GE\n",
    "efficiency = inversion_efficiency * background_supp_eff \n",
    "T1_blood = 1.65 #T1 of blood in seconds(1.6s at 3T and 1.4s at 1.5T)\n",
    "sat_time = 2 #in seconds, from GE\n",
    "partition_coeff = 0.9 #whole brain average in ml/g\n",
    "scaling_factor = 32 #scaling factor, can be taken from PW dicom header\n",
    "postlabel_delay = 1.525 #post label delay in seconds\n",
    "labeling_time = 1.450 #labeling time in seconds"
   ]
  },
  {
   "cell_type": "code",
   "execution_count": 35,
   "metadata": {
    "collapsed": false,
    "deletable": true,
    "editable": true
   },
   "outputs": [],
   "source": [
    "# preprocflow nodes\n",
    "\n",
    "# Infosource - a function free node to iterate over the list of subject names\n",
    "infosource = Node(IdentityInterface(fields=['subjid']),\n",
    "                  name=\"infosource\")\n",
    "infosource.iterables = [('subjid', subjects_list)]\n",
    "\n",
    "# SelectFiles\n",
    "templates = {'anat': subjects_dir + '/raw/{subjid}/anat.nii.gz',\n",
    "              'func': subjects_dir + '/raw/{subjid}/cbf.nii.gz'}\n",
    "selectfiles = Node(SelectFiles(templates), name=\"selectfiles\")\n",
    "\n",
    "#gunzip\n",
    "gunzip = Node(Gunzip(), name=\"gunzip\")\n",
    "\n",
    "slice_timing = Node(fsl.SliceTimer(time_repetition=TR,\n",
    "                               interleaved=False,output_type='NIFTI'),\n",
    "                   name=\"slice_timing\")\n",
    "\n",
    "#smoothing- nt convinced we need this?\n",
    "smooth = Node(spm.Smooth(), name=\"smooth\")\n",
    "smooth.inputs.fwhm = 4\n",
    "\n",
    "#spatial normalization\n",
    "norm = Node(spm.Normalize(template=template), name=\"norm\")\n",
    "\n",
    "# Datasink\n",
    "datasink = Node(DataSink(), name=\"datasink\")\n",
    "datasink.inputs.base_directory = subjects_dir\n",
    "datasink.inputs.container = output_dir\n",
    "\n",
    "def quantify_cbf(pw_nifti1,pd_nifti1,nex_asl,efficiency,T1_blood,sat_time,partition_coeff,scaling_factor,postlabel_delay,labeling_time):\n",
    "    # set variables\n",
    "    pw_data = pw_nifti1.get_data()\n",
    "    pd_data = pd_nifti1.get_data()\n",
    "    pd_nonzero_data = pd_data[pd_data==0]=[np.NA]\n",
    "    conversion = 6000 #to convert values from mL/g/s to mL/100g/min\n",
    "    \n",
    "    cbf_numerator = conversion*partition_coeff*pw_data*np.exp(postlabel_delay/T1_blood)\n",
    "    cbf_denominator = nex_asl*efficiency*T1_blood*pd_data*(1-np.exp(-1*postlabel_delay/T1_blood))\n",
    "    \n",
    "    print(cbf_denominator)\n",
    "    #cbf_data = cbf_numerator/cbf_denominator\n",
    "    #cbf_vol = nib.Nifti1Image(cbf_data, pw_nifti1.affine)\n",
    "    #nib.save(cbf_vol,project_home + '/cbf_vol.nii.gz')"
   ]
  },
  {
   "cell_type": "code",
   "execution_count": 36,
   "metadata": {
    "collapsed": false,
    "deletable": true,
    "editable": true,
    "scrolled": false
   },
   "outputs": [
    {
     "ename": "AttributeError",
     "evalue": "'module' object has no attribute 'NA'",
     "output_type": "error",
     "traceback": [
      "\u001b[0;31m---------------------------------------------------------------------------\u001b[0m",
      "\u001b[0;31mAttributeError\u001b[0m                            Traceback (most recent call last)",
      "\u001b[0;32m<ipython-input-36-bf0e8ce2e126>\u001b[0m in \u001b[0;36m<module>\u001b[0;34m()\u001b[0m\n\u001b[1;32m      1\u001b[0m \u001b[0mpw_nifti1\u001b[0m \u001b[0;34m=\u001b[0m \u001b[0mnib\u001b[0m\u001b[0;34m.\u001b[0m\u001b[0mload\u001b[0m\u001b[0;34m(\u001b[0m\u001b[0mproject_home\u001b[0m \u001b[0;34m+\u001b[0m \u001b[0;34m'/subs/raw/ko/pw.nii.gz'\u001b[0m\u001b[0;34m)\u001b[0m\u001b[0;34m\u001b[0m\u001b[0m\n\u001b[1;32m      2\u001b[0m \u001b[0mpd_nifti1\u001b[0m \u001b[0;34m=\u001b[0m \u001b[0mnib\u001b[0m\u001b[0;34m.\u001b[0m\u001b[0mload\u001b[0m\u001b[0;34m(\u001b[0m\u001b[0mproject_home\u001b[0m \u001b[0;34m+\u001b[0m \u001b[0;34m'/subs/raw/ko/pd.nii.gz'\u001b[0m\u001b[0;34m)\u001b[0m\u001b[0;34m\u001b[0m\u001b[0m\n\u001b[0;32m----> 3\u001b[0;31m \u001b[0mquantify_cbf\u001b[0m\u001b[0;34m(\u001b[0m\u001b[0mpw_nifti1\u001b[0m\u001b[0;34m,\u001b[0m\u001b[0mpd_nifti1\u001b[0m\u001b[0;34m,\u001b[0m\u001b[0mnex_asl\u001b[0m\u001b[0;34m,\u001b[0m\u001b[0mefficiency\u001b[0m\u001b[0;34m,\u001b[0m\u001b[0mT1_blood\u001b[0m\u001b[0;34m,\u001b[0m\u001b[0msat_time\u001b[0m\u001b[0;34m,\u001b[0m\u001b[0mpartition_coeff\u001b[0m\u001b[0;34m,\u001b[0m\u001b[0mscaling_factor\u001b[0m\u001b[0;34m,\u001b[0m\u001b[0mpostlabel_delay\u001b[0m\u001b[0;34m,\u001b[0m\u001b[0mlabeling_time\u001b[0m\u001b[0;34m)\u001b[0m\u001b[0;34m\u001b[0m\u001b[0m\n\u001b[0m",
      "\u001b[0;32m<ipython-input-35-23c4220b10a1>\u001b[0m in \u001b[0;36mquantify_cbf\u001b[0;34m(pw_nifti1, pd_nifti1, nex_asl, efficiency, T1_blood, sat_time, partition_coeff, scaling_factor, postlabel_delay, labeling_time)\u001b[0m\n\u001b[1;32m     34\u001b[0m     \u001b[0mpw_data\u001b[0m \u001b[0;34m=\u001b[0m \u001b[0mpw_nifti1\u001b[0m\u001b[0;34m.\u001b[0m\u001b[0mget_data\u001b[0m\u001b[0;34m(\u001b[0m\u001b[0;34m)\u001b[0m\u001b[0;34m\u001b[0m\u001b[0m\n\u001b[1;32m     35\u001b[0m     \u001b[0mpd_data\u001b[0m \u001b[0;34m=\u001b[0m \u001b[0mpd_nifti1\u001b[0m\u001b[0;34m.\u001b[0m\u001b[0mget_data\u001b[0m\u001b[0;34m(\u001b[0m\u001b[0;34m)\u001b[0m\u001b[0;34m\u001b[0m\u001b[0m\n\u001b[0;32m---> 36\u001b[0;31m     \u001b[0mpd_nonzero_data\u001b[0m \u001b[0;34m=\u001b[0m \u001b[0mpd_data\u001b[0m\u001b[0;34m[\u001b[0m\u001b[0mpd_data\u001b[0m\u001b[0;34m==\u001b[0m\u001b[0;36m0\u001b[0m\u001b[0;34m]\u001b[0m\u001b[0;34m=\u001b[0m\u001b[0;34m[\u001b[0m\u001b[0mnp\u001b[0m\u001b[0;34m.\u001b[0m\u001b[0mNA\u001b[0m\u001b[0;34m]\u001b[0m\u001b[0;34m\u001b[0m\u001b[0m\n\u001b[0m\u001b[1;32m     37\u001b[0m     \u001b[0mconversion\u001b[0m \u001b[0;34m=\u001b[0m \u001b[0;36m6000\u001b[0m \u001b[0;31m#to convert values from mL/g/s to mL/100g/min\u001b[0m\u001b[0;34m\u001b[0m\u001b[0m\n\u001b[1;32m     38\u001b[0m \u001b[0;34m\u001b[0m\u001b[0m\n",
      "\u001b[0;31mAttributeError\u001b[0m: 'module' object has no attribute 'NA'"
     ]
    }
   ],
   "source": [
    "pw_nifti1 = nib.load(project_home + '/subs/raw/ko/pw.nii.gz')\n",
    "pd_nifti1 = nib.load(project_home + '/subs/raw/ko/pd.nii.gz')\n",
    "quantify_cbf(pw_nifti1,pd_nifti1,nex_asl,efficiency,T1_blood,sat_time,partition_coeff,scaling_factor,postlabel_delay,labeling_time)\n"
   ]
  },
  {
   "cell_type": "code",
   "execution_count": null,
   "metadata": {
    "collapsed": true,
    "deletable": true,
    "editable": true
   },
   "outputs": [],
   "source": []
  },
  {
   "cell_type": "code",
   "execution_count": 24,
   "metadata": {
    "collapsed": false,
    "deletable": true,
    "editable": true
   },
   "outputs": [
    {
     "name": "stdout",
     "output_type": "stream",
     "text": [
      "170225-16:04:06,320 workflow INFO:\n",
      "\t Creating detailed dot file: /Users/myelin/Documents/asl_practice/subs/preprocflow/graph_detailed.dot\n",
      "170225-16:04:07,331 workflow INFO:\n",
      "\t Creating dot file: /Users/myelin/Documents/asl_practice/subs/preprocflow/graph.dot\n",
      "170225-16:04:08,431 workflow INFO:\n",
      "\t ['check', 'execution', 'logging']\n",
      "170225-16:04:08,514 workflow INFO:\n",
      "\t Running in parallel.\n",
      "170225-16:04:08,526 workflow INFO:\n",
      "\t Executing: selectfiles.a0 ID: 0\n",
      "170225-16:04:08,546 workflow INFO:\n",
      "\t Executing node selectfiles.a0 in dir: /Users/myelin/Documents/asl_practice/subs/preprocflow/_subjid_ko/selectfiles\n",
      "170225-16:04:08,629 workflow INFO:\n",
      "\t Runtime memory and threads stats unavailable\n",
      "170225-16:04:08,634 workflow INFO:\n",
      "\t [Job finished] jobname: selectfiles.a0 jobid: 0\n",
      "170225-16:04:08,637 workflow INFO:\n",
      "\t Executing: gunzip.a0 ID: 1\n",
      "170225-16:04:08,641 workflow INFO:\n",
      "\t [Job finished] jobname: gunzip.a0 jobid: 1\n",
      "170225-16:04:08,644 workflow INFO:\n",
      "\t Executing: slice_timing.a0 ID: 2\n",
      "170225-16:04:08,763 workflow INFO:\n",
      "\t [Job finished] jobname: slice_timing.a0 jobid: 2\n",
      "170225-16:04:08,766 workflow INFO:\n",
      "\t Executing: norm.a0 ID: 3\n",
      "170225-16:04:08,805 workflow INFO:\n",
      "\t Executing node norm.a0 in dir: /Users/myelin/Documents/asl_practice/subs/preprocflow/_subjid_ko/norm\n",
      "170225-16:05:28,863 workflow INFO:\n",
      "\t Runtime memory and threads stats unavailable\n",
      "170225-16:05:28,868 workflow INFO:\n",
      "\t [Job finished] jobname: norm.a0 jobid: 3\n",
      "170225-16:05:28,872 workflow INFO:\n",
      "\t Executing: datasink.a0 ID: 4\n",
      "170225-16:05:28,888 workflow INFO:\n",
      "\t Executing node datasink.a0 in dir: /Users/myelin/Documents/asl_practice/subs/preprocflow/_subjid_ko/datasink\n",
      "170225-16:05:28,906 workflow INFO:\n",
      "\t Runtime memory and threads stats unavailable\n",
      "170225-16:05:28,909 workflow INFO:\n",
      "\t [Job finished] jobname: datasink.a0 jobid: 4\n"
     ]
    },
    {
     "data": {
      "text/plain": [
       "<networkx.classes.digraph.DiGraph at 0x10c716190>"
      ]
     },
     "execution_count": 24,
     "metadata": {},
     "output_type": "execute_result"
    }
   ],
   "source": [
    "#establish asl preprocessing workflow that can be run on one subject at a time\n",
    "\n",
    "\n",
    "preprocflow = Workflow(name=\"preprocflow\")\n",
    "\n",
    "preprocflow.base_dir = opj(subjects_dir)\n",
    "preprocflow.connect([(infosource, selectfiles, [('subjid', 'subjid')]),\n",
    "                     (selectfiles, gunzip, [('func', 'in_file')]),\n",
    "                     (gunzip, slice_timing, [('out_file','in_file')]),\n",
    "                     (slice_timing, datasink, [('slice_time_corrected_file', 'slice_timing')]),\n",
    "                     (slice_timing, norm,[('slice_time_corrected_file','source')]),\n",
    "                     (norm, datasink, [('normalized_source', 'norm')]),\n",
    "                    ])\n",
    "preprocflow.write_graph(graph2use='flat')\n",
    "preprocflow.run('MultiProc', plugin_args={'n_procs': 2})"
   ]
  },
  {
   "cell_type": "code",
   "execution_count": null,
   "metadata": {
    "collapsed": true,
    "deletable": true,
    "editable": true
   },
   "outputs": [],
   "source": [
    "#establish processing workflow for analysis of multiple subjects\n",
    "procflow = Workflow(name=\"procflow\")\n"
   ]
  },
  {
   "cell_type": "code",
   "execution_count": null,
   "metadata": {
    "collapsed": true,
    "deletable": true,
    "editable": true
   },
   "outputs": [],
   "source": [
    "#proc nodes\n"
   ]
  },
  {
   "cell_type": "code",
   "execution_count": null,
   "metadata": {
    "collapsed": true,
    "deletable": true,
    "editable": true
   },
   "outputs": [],
   "source": [
    "modelflow = Workflow(name=\"modelflow\")"
   ]
  }
 ],
 "metadata": {
  "kernelspec": {
   "display_name": "Python 2",
   "language": "python",
   "name": "python2"
  },
  "language_info": {
   "codemirror_mode": {
    "name": "ipython",
    "version": 2
   },
   "file_extension": ".py",
   "mimetype": "text/x-python",
   "name": "python",
   "nbconvert_exporter": "python",
   "pygments_lexer": "ipython2",
   "version": "2.7.12"
  }
 },
 "nbformat": 4,
 "nbformat_minor": 2
}
