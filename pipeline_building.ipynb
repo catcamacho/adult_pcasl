{
 "cells": [
  {
   "cell_type": "code",
   "execution_count": null,
   "metadata": {
    "collapsed": true,
    "deletable": true,
    "editable": true
   },
   "outputs": [],
   "source": [
    "%matplotlib\n",
    "import numpy as np\n",
    "import matplotlib.pyplot as plt\n",
    "import nibabel as nib\n",
    "import nipype.interfaces.spm as spm\n",
    "import nipype.interfaces.fsl as fsl\n",
    "from nipype.pipeline.engine import Workflow, Node, MapNode\n",
    "\n",
    "subjects_dir = '/Users/catcamacho/Documents/asl_practice'\n",
    "subjects = ['ko']\n",
    "raw_dir = 'raw'\n",
    "output_dir = 'proc'"
   ]
  }
 ],
 "metadata": {
  "kernelspec": {
   "display_name": "Python 2",
   "language": "python",
   "name": "python2"
  },
  "language_info": {
   "codemirror_mode": {
    "name": "ipython",
    "version": 2
   },
   "file_extension": ".py",
   "mimetype": "text/x-python",
   "name": "python",
   "nbconvert_exporter": "python",
   "pygments_lexer": "ipython2",
   "version": "2.7.12"
  }
 },
 "nbformat": 4,
 "nbformat_minor": 2
}
