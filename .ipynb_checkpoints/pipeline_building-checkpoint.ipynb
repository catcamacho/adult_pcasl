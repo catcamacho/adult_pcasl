{
 "cells": [
  {
   "cell_type": "code",
   "execution_count": 5,
   "metadata": {
    "collapsed": true,
    "deletable": true,
    "editable": true
   },
   "outputs": [],
   "source": [
    "#%matplotlib\n",
    "import numpy as np\n",
    "import matplotlib.pyplot as plt\n",
    "import nibabel as nib\n",
    "from os.path import join as opj\n",
    "from numpy import median, rint\n",
    "\n",
    "from nipype.interfaces import freesurfer as fs\n",
    "from nipype.interfaces import spm\n",
    "from nipype.interfaces.utility import Function, IdentityInterface\n",
    "from nipype.interfaces.io import FreeSurferSource, SelectFiles, DataSink\n",
    "from nipype.algorithms.misc import Gunzip\n",
    "from nipype.algorithms.modelgen import SpecifySPMModel\n",
    "from nipype.pipeline.engine import Workflow, Node, MapNode\n",
    "\n",
    "# MATLAB - Specify path to current SPM and the MATLAB's default mode\n",
    "from nipype.interfaces.matlab import MatlabCommand\n",
    "MatlabCommand.set_default_paths('/Users/myelin/spm12/toolbox')\n",
    "MatlabCommand.set_default_matlab_cmd(\"matlab -nodesktop -nosplash\")\n",
    "\n",
    "# FreeSurfer - Specify the location of the freesurfer folder\n",
    "fs_dir = '/Users/myelin/Documents/asl_practice/subs/freesurfer'\n",
    "fs.FSCommand.set_default_subjects_dir(fs_dir)\n",
    "\n",
    "#other study-specific variables\n",
    "subjects_dir = '/Users/myelin/Documents/asl_practice/subs'\n",
    "subjects_list = ['ko']\n",
    "raw_dir = 'raw'\n",
    "output_dir = 'proc'\n",
    "\n",
    "#pre-proc variables\n",
    "numslices = 38\n",
    "TR = 4.844\n",
    "asl_slice_order = range(1,numslices+1)\n",
    "middle_slice = np.around(median(asl_slice_order), decimals=-1)\n",
    "middle_slice = middle_slice.astype(int)"
   ]
  },
  {
   "cell_type": "code",
   "execution_count": 10,
   "metadata": {
    "collapsed": false,
    "deletable": true,
    "editable": true
   },
   "outputs": [],
   "source": [
    "# preprocflow nodes\n",
    "\n",
    "# Infosource - a function free node to iterate over the list of subject names\n",
    "infosource = Node(IdentityInterface(fields=['subjid']),\n",
    "                  name=\"infosource\")\n",
    "infosource.iterables = [('subjid', subjects_list)]\n",
    "\n",
    "# SelectFiles\n",
    "templates = {'anat': subjects_dir + '/{subjid}/anat.nii.gz',\n",
    "              'func': subjects_dir + '/{subjid}/cbf.nii.gz'}\n",
    "selectfiles = Node(SelectFiles(templates), name=\"selectfiles\")\n",
    "\n",
    "#gunzip\n",
    "gunzip = Node(Gunzip(), name=\"gunzip\")\n",
    "\n",
    "#slicetiming correction - need to ask Bob\n",
    "slice_timing = Node(spm.SliceTiming(num_slices=numslices,\n",
    "                               time_repetition=TR,\n",
    "                               time_acquisition=TR-TR/numslices,\n",
    "                               slice_order=asl_slice_order,\n",
    "                               ref_slice=middle_slice),\n",
    "                   name=\"slice_timing\")\n",
    "\n",
    "#smoothing\n",
    "smooth = Node(spm.Smooth(), name=\"smooth\")\n",
    "smooth.inputs.fwhm = 4\n",
    "\n",
    "#spatial normalization\n",
    "norm = Node(spm.Normalize(), name=\"norm\")\n",
    "\n",
    "# Datasink\n",
    "datasink = Node(DataSink(), name=\"datasink\")\n",
    "datasink.inputs.base_directory = subjects_dir\n",
    "datasink.inputs.container = output_dir"
   ]
  },
  {
   "cell_type": "code",
   "execution_count": 16,
   "metadata": {
    "collapsed": false,
    "deletable": true,
    "editable": true
   },
   "outputs": [
    {
     "name": "stdout",
     "output_type": "stream",
     "text": [
      "170220-18:25:22,346 workflow INFO:\n",
      "\t Creating detailed dot file: /Users/myelin/Documents/asl_practice/subs/preprocflow/graph_detailed.dot\n",
      "170220-18:25:22,461 workflow INFO:\n",
      "\t Creating dot file: /Users/myelin/Documents/asl_practice/subs/preprocflow/graph.dot\n",
      "170220-18:25:22,561 workflow INFO:\n",
      "\t ['check', 'execution', 'logging']\n",
      "170220-18:25:22,582 workflow INFO:\n",
      "\t Running in parallel.\n",
      "170220-18:25:22,586 workflow INFO:\n",
      "\t Executing: selectfiles.a0 ID: 0\n",
      "170220-18:25:22,593 workflow INFO:\n",
      "\t Executing node selectfiles.a0 in dir: /Users/myelin/Documents/asl_practice/subs/preprocflow/_subjid_ko/selectfiles\n",
      "170220-18:25:22,631 workflow ERROR:\n",
      "\t ['Node selectfiles.a0 failed to run on host myelin.stanford.edu.']\n",
      "170220-18:25:22,633 workflow INFO:\n",
      "\t Saving crash info to /Users/myelin/Documents/asl_practice/pcasl_processing/crash-20170220-182522-myelin-selectfiles.a0-1d06f8e5-bc2a-45b5-932f-3035bc60d314.pklz\n",
      "170220-18:25:22,635 workflow INFO:\n",
      "\t Traceback (most recent call last):\n",
      "  File \"/usr/local/lib/python2.7/site-packages/nipype/pipeline/plugins/multiproc.py\", line 49, in run_node\n",
      "    result['result'] = node.run(updatehash=updatehash)\n",
      "  File \"/usr/local/lib/python2.7/site-packages/nipype/pipeline/engine/nodes.py\", line 394, in run\n",
      "    self._run_interface()\n",
      "  File \"/usr/local/lib/python2.7/site-packages/nipype/pipeline/engine/nodes.py\", line 504, in _run_interface\n",
      "    self._result = self._run_command(execute)\n",
      "  File \"/usr/local/lib/python2.7/site-packages/nipype/pipeline/engine/nodes.py\", line 630, in _run_command\n",
      "    result = self._interface.run()\n",
      "  File \"/usr/local/lib/python2.7/site-packages/nipype/interfaces/base.py\", line 1044, in run\n",
      "    outputs = self.aggregate_outputs(runtime)\n",
      "  File \"/usr/local/lib/python2.7/site-packages/nipype/interfaces/base.py\", line 1115, in aggregate_outputs\n",
      "    predicted_outputs = self._list_outputs()\n",
      "  File \"/usr/local/lib/python2.7/site-packages/nipype/interfaces/io.py\", line 1319, in _list_outputs\n",
      "    raise IOError(msg)\n",
      "IOError: No files were found matching anat template: /Users/myelin/Documents/asl_practice/subs/ko/anat.nii.gz\n",
      "Interface SelectFiles failed to run. \n",
      "\n",
      "170220-18:25:22,643 workflow INFO:\n",
      "\t ***********************************\n",
      "170220-18:25:22,644 workflow ERROR:\n",
      "\t could not run node: preprocflow.selectfiles.a0\n",
      "170220-18:25:22,646 workflow INFO:\n",
      "\t crashfile: /Users/myelin/Documents/asl_practice/pcasl_processing/crash-20170220-182522-myelin-selectfiles.a0-1d06f8e5-bc2a-45b5-932f-3035bc60d314.pklz\n",
      "170220-18:25:22,647 workflow INFO:\n",
      "\t ***********************************\n"
     ]
    },
    {
     "ename": "RuntimeError",
     "evalue": "Workflow did not execute cleanly. Check log for details",
     "output_type": "error",
     "traceback": [
      "\u001b[0;31m---------------------------------------------------------------------------\u001b[0m",
      "\u001b[0;31mRuntimeError\u001b[0m                              Traceback (most recent call last)",
      "\u001b[0;32m<ipython-input-16-23572a34990d>\u001b[0m in \u001b[0;36m<module>\u001b[0;34m()\u001b[0m\n\u001b[1;32m     11\u001b[0m                     ])\n\u001b[1;32m     12\u001b[0m \u001b[0mpreprocflow\u001b[0m\u001b[0;34m.\u001b[0m\u001b[0mwrite_graph\u001b[0m\u001b[0;34m(\u001b[0m\u001b[0mgraph2use\u001b[0m\u001b[0;34m=\u001b[0m\u001b[0;34m'flat'\u001b[0m\u001b[0;34m)\u001b[0m\u001b[0;34m\u001b[0m\u001b[0m\n\u001b[0;32m---> 13\u001b[0;31m \u001b[0mpreprocflow\u001b[0m\u001b[0;34m.\u001b[0m\u001b[0mrun\u001b[0m\u001b[0;34m(\u001b[0m\u001b[0;34m'MultiProc'\u001b[0m\u001b[0;34m,\u001b[0m \u001b[0mplugin_args\u001b[0m\u001b[0;34m=\u001b[0m\u001b[0;34m{\u001b[0m\u001b[0;34m'n_procs'\u001b[0m\u001b[0;34m:\u001b[0m \u001b[0;36m1\u001b[0m\u001b[0;34m}\u001b[0m\u001b[0;34m)\u001b[0m\u001b[0;34m\u001b[0m\u001b[0m\n\u001b[0m",
      "\u001b[0;32m/usr/local/lib/python2.7/site-packages/nipype/pipeline/engine/workflows.pyc\u001b[0m in \u001b[0;36mrun\u001b[0;34m(self, plugin, plugin_args, updatehash)\u001b[0m\n\u001b[1;32m    595\u001b[0m         \u001b[0;32mif\u001b[0m \u001b[0mstr2bool\u001b[0m\u001b[0;34m(\u001b[0m\u001b[0mself\u001b[0m\u001b[0;34m.\u001b[0m\u001b[0mconfig\u001b[0m\u001b[0;34m[\u001b[0m\u001b[0;34m'execution'\u001b[0m\u001b[0;34m]\u001b[0m\u001b[0;34m[\u001b[0m\u001b[0;34m'create_report'\u001b[0m\u001b[0;34m]\u001b[0m\u001b[0;34m)\u001b[0m\u001b[0;34m:\u001b[0m\u001b[0;34m\u001b[0m\u001b[0m\n\u001b[1;32m    596\u001b[0m             \u001b[0mself\u001b[0m\u001b[0;34m.\u001b[0m\u001b[0m_write_report_info\u001b[0m\u001b[0;34m(\u001b[0m\u001b[0mself\u001b[0m\u001b[0;34m.\u001b[0m\u001b[0mbase_dir\u001b[0m\u001b[0;34m,\u001b[0m \u001b[0mself\u001b[0m\u001b[0;34m.\u001b[0m\u001b[0mname\u001b[0m\u001b[0;34m,\u001b[0m \u001b[0mexecgraph\u001b[0m\u001b[0;34m)\u001b[0m\u001b[0;34m\u001b[0m\u001b[0m\n\u001b[0;32m--> 597\u001b[0;31m         \u001b[0mrunner\u001b[0m\u001b[0;34m.\u001b[0m\u001b[0mrun\u001b[0m\u001b[0;34m(\u001b[0m\u001b[0mexecgraph\u001b[0m\u001b[0;34m,\u001b[0m \u001b[0mupdatehash\u001b[0m\u001b[0;34m=\u001b[0m\u001b[0mupdatehash\u001b[0m\u001b[0;34m,\u001b[0m \u001b[0mconfig\u001b[0m\u001b[0;34m=\u001b[0m\u001b[0mself\u001b[0m\u001b[0;34m.\u001b[0m\u001b[0mconfig\u001b[0m\u001b[0;34m)\u001b[0m\u001b[0;34m\u001b[0m\u001b[0m\n\u001b[0m\u001b[1;32m    598\u001b[0m         \u001b[0mdatestr\u001b[0m \u001b[0;34m=\u001b[0m \u001b[0mdatetime\u001b[0m\u001b[0;34m.\u001b[0m\u001b[0mutcnow\u001b[0m\u001b[0;34m(\u001b[0m\u001b[0;34m)\u001b[0m\u001b[0;34m.\u001b[0m\u001b[0mstrftime\u001b[0m\u001b[0;34m(\u001b[0m\u001b[0;34m'%Y%m%dT%H%M%S'\u001b[0m\u001b[0;34m)\u001b[0m\u001b[0;34m\u001b[0m\u001b[0m\n\u001b[1;32m    599\u001b[0m         \u001b[0;32mif\u001b[0m \u001b[0mstr2bool\u001b[0m\u001b[0;34m(\u001b[0m\u001b[0mself\u001b[0m\u001b[0;34m.\u001b[0m\u001b[0mconfig\u001b[0m\u001b[0;34m[\u001b[0m\u001b[0;34m'execution'\u001b[0m\u001b[0;34m]\u001b[0m\u001b[0;34m[\u001b[0m\u001b[0;34m'write_provenance'\u001b[0m\u001b[0;34m]\u001b[0m\u001b[0;34m)\u001b[0m\u001b[0;34m:\u001b[0m\u001b[0;34m\u001b[0m\u001b[0m\n",
      "\u001b[0;32m/usr/local/lib/python2.7/site-packages/nipype/pipeline/plugins/base.pyc\u001b[0m in \u001b[0;36mrun\u001b[0;34m(self, graph, config, updatehash)\u001b[0m\n\u001b[1;32m    272\u001b[0m \u001b[0;34m\u001b[0m\u001b[0m\n\u001b[1;32m    273\u001b[0m         \u001b[0mself\u001b[0m\u001b[0;34m.\u001b[0m\u001b[0m_remove_node_dirs\u001b[0m\u001b[0;34m(\u001b[0m\u001b[0;34m)\u001b[0m\u001b[0;34m\u001b[0m\u001b[0m\n\u001b[0;32m--> 274\u001b[0;31m         \u001b[0mreport_nodes_not_run\u001b[0m\u001b[0;34m(\u001b[0m\u001b[0mnotrun\u001b[0m\u001b[0;34m)\u001b[0m\u001b[0;34m\u001b[0m\u001b[0m\n\u001b[0m\u001b[1;32m    275\u001b[0m \u001b[0;34m\u001b[0m\u001b[0m\n\u001b[1;32m    276\u001b[0m \u001b[0;34m\u001b[0m\u001b[0m\n",
      "\u001b[0;32m/usr/local/lib/python2.7/site-packages/nipype/pipeline/plugins/base.pyc\u001b[0m in \u001b[0;36mreport_nodes_not_run\u001b[0;34m(notrun)\u001b[0m\n\u001b[1;32m     93\u001b[0m                 \u001b[0mlogger\u001b[0m\u001b[0;34m.\u001b[0m\u001b[0mdebug\u001b[0m\u001b[0;34m(\u001b[0m\u001b[0msubnode\u001b[0m\u001b[0;34m.\u001b[0m\u001b[0m_id\u001b[0m\u001b[0;34m)\u001b[0m\u001b[0;34m\u001b[0m\u001b[0m\n\u001b[1;32m     94\u001b[0m         \u001b[0mlogger\u001b[0m\u001b[0;34m.\u001b[0m\u001b[0minfo\u001b[0m\u001b[0;34m(\u001b[0m\u001b[0;34m\"***********************************\"\u001b[0m\u001b[0;34m)\u001b[0m\u001b[0;34m\u001b[0m\u001b[0m\n\u001b[0;32m---> 95\u001b[0;31m         raise RuntimeError(('Workflow did not execute cleanly. '\n\u001b[0m\u001b[1;32m     96\u001b[0m                             'Check log for details'))\n\u001b[1;32m     97\u001b[0m \u001b[0;34m\u001b[0m\u001b[0m\n",
      "\u001b[0;31mRuntimeError\u001b[0m: Workflow did not execute cleanly. Check log for details"
     ]
    }
   ],
   "source": [
    "#establish asl preprocessing workflow that can be run on one subject at a time\n",
    "preprocflow = Workflow(name=\"preprocflow\")\n",
    "\n",
    "preprocflow.base_dir = opj(subjects_dir)\n",
    "preprocflow.connect([(infosource, selectfiles, [('subjid', 'subjid')]),\n",
    "                     (selectfiles, gunzip, [('func', 'in_file')]),\n",
    "                     (gunzip, slice_timing, [('out_file','in_files')]),\n",
    "                     (slice_timing, datasink, [('timecorrected_files', 'slice_timing')]),\n",
    "                     (slice_timing, norm,[('timecorrected_files','source')]),\n",
    "                     (norm, datasink, [('normalized_files', 'norm')]),\n",
    "                    ])\n",
    "preprocflow.write_graph(graph2use='flat')\n",
    "preprocflow.run('MultiProc', plugin_args={'n_procs': 1})"
   ]
  },
  {
   "cell_type": "code",
   "execution_count": null,
   "metadata": {
    "collapsed": true,
    "deletable": true,
    "editable": true
   },
   "outputs": [],
   "source": [
    "#establish processing workflow for analysis of multiple subjects\n",
    "procflow = Workflow(name=\"procflow\")\n"
   ]
  },
  {
   "cell_type": "code",
   "execution_count": null,
   "metadata": {
    "collapsed": true,
    "deletable": true,
    "editable": true
   },
   "outputs": [],
   "source": [
    "#proc nodes\n"
   ]
  },
  {
   "cell_type": "code",
   "execution_count": null,
   "metadata": {
    "collapsed": true,
    "deletable": true,
    "editable": true
   },
   "outputs": [],
   "source": [
    "modelflow = Workflow(name=\"modelflow\")"
   ]
  }
 ],
 "metadata": {
  "kernelspec": {
   "display_name": "Python 2",
   "language": "python",
   "name": "python2"
  },
  "language_info": {
   "codemirror_mode": {
    "name": "ipython",
    "version": 2
   },
   "file_extension": ".py",
   "mimetype": "text/x-python",
   "name": "python",
   "nbconvert_exporter": "python",
   "pygments_lexer": "ipython2",
   "version": "2.7.12"
  }
 },
 "nbformat": 4,
 "nbformat_minor": 2
}
