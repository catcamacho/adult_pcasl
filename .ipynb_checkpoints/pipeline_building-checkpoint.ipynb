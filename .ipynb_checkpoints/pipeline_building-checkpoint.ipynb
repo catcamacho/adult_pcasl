{
 "cells": [
  {
   "cell_type": "code",
   "execution_count": null,
   "metadata": {
    "collapsed": true,
    "deletable": true,
    "editable": true
   },
   "outputs": [],
   "source": [
    "%matplotlib\n",
    "import numpy as np\n",
    "import matplotlib.pyplot as plt\n",
    "import nibabel as nib\n",
    "import nipype.interfaces.spm as spm\n",
    "import nipype.interfaces.fsl as fsl\n",
    "from nipype.pipeline.engine import Workflow, Node, MapNode\n",
    "\n",
    "subjects_dir = '/Users/myelin/Documents/asl_practice/subs'\n",
    "subjects = ['ko']\n",
    "raw_dir = 'raw'\n",
    "output_dir = 'proc'"
   ]
  },
  {
   "cell_type": "code",
   "execution_count": null,
   "metadata": {
    "collapsed": true
   },
   "outputs": [],
   "source": [
    "#establish asl preprocessing workflow that can be run on one subject at a time\n",
    "preprocaslflow = Workflow(name='preprocaslflow')\n"
   ]
  },
  {
   "cell_type": "code",
   "execution_count": null,
   "metadata": {
    "collapsed": true
   },
   "outputs": [],
   "source": [
    "#establish anat preprocessing workflow that can be run on one subject at a time\n",
    "preprocanatflow = Workflow(name='preprocanatflow')\n"
   ]
  },
  {
   "cell_type": "code",
   "execution_count": null,
   "metadata": {
    "collapsed": true
   },
   "outputs": [],
   "source": [
    "#establish processing workflow for analysis of multiple subjects\n",
    "procflow = Workflow(name='procflow')"
   ]
  },
  {
   "cell_type": "code",
   "execution_count": null,
   "metadata": {
    "collapsed": true
   },
   "outputs": [],
   "source": [
    "modelflow = Workflow(name='modelflow')"
   ]
  }
 ],
 "metadata": {
  "kernelspec": {
   "display_name": "Python 2",
   "language": "python",
   "name": "python2"
  },
  "language_info": {
   "codemirror_mode": {
    "name": "ipython",
    "version": 2
   },
   "file_extension": ".py",
   "mimetype": "text/x-python",
   "name": "python",
   "nbconvert_exporter": "python",
   "pygments_lexer": "ipython2",
   "version": "2.7.12"
  }
 },
 "nbformat": 4,
 "nbformat_minor": 2
}
