{
 "cells": [
  {
   "cell_type": "code",
   "execution_count": null,
   "metadata": {
    "collapsed": true,
    "deletable": true,
    "editable": true
   },
   "outputs": [],
   "source": [
    "%matplotlib\n",
    "import numpy as np\n",
    "import matplotlib.pyplot as plt\n",
    "import nibabel as nib\n",
    "from os.path import join as opj\n",
    "from numpy import median, rint\n",
    "\n",
    "from nipype.interfaces import freesurfer as fs\n",
    "from nipype.interfaces import spm\n",
    "from nipype.interfaces.utility import Function, IdentityInterface\n",
    "from nipype.interfaces.io import FreeSurferSource, SelectFiles, DataSink\n",
    "from nipype.algorithms.misc import Gunzip\n",
    "from nipype.algorithms.modelgen import SpecifySPMModel\n",
    "from nipype.pipeline.engine import Workflow, Node, MapNode\n",
    "\n",
    "# MATLAB - Specify path to current SPM and the MATLAB's default mode\n",
    "from nipype.interfaces.matlab import MatlabCommand\n",
    "MatlabCommand.set_default_paths('/Users/myelin/spm12/toolbox')\n",
    "MatlabCommand.set_default_matlab_cmd(\"matlab -nodesktop -nosplash\")\n",
    "\n",
    "# FreeSurfer - Specify the location of the freesurfer folder\n",
    "fs_dir = '/Users/myelin/Documents/asl_practice/subs/freesurfer'\n",
    "fs.FSCommand.set_default_subjects_dir(fs_dir)\n",
    "\n",
    "#other study-specific variables\n",
    "subjects_dir = '/Users/myelin/Documents/asl_practice/subs'\n",
    "subjects = ['ko']\n",
    "raw_dir = 'raw'\n",
    "output_dir = 'proc'\n",
    "\n",
    "#pre-proc variables\n",
    "numslices = 38\n",
    "TR = 4.844\n",
    "asl_slice_order = range(1,numslices+1)\n",
    "middle_slice = rint(median(asl_slice_order))"
   ]
  },
  {
   "cell_type": "code",
   "execution_count": null,
   "metadata": {
    "collapsed": true
   },
   "outputs": [],
   "source": [
    "# SelectFiles\n",
    "templates = {'anat': subjects_dir + '/{subjid}/anat.nii.gz',\n",
    "              'func': subjects_dir + '/{subjid}/cbf.nii.gz'}\n",
    "selectfiles = Node(nio.SelectFiles(templates), name=\"selectfiles\")"
   ]
  },
  {
   "cell_type": "code",
   "execution_count": null,
   "metadata": {
    "collapsed": true
   },
   "outputs": [],
   "source": [
    "# Datasink\n",
    "datasink = Node(nio.DataSink(), name=\"datasink\")\n",
    "datasink.inputs.base_directory = subjects_dir\n",
    "datasink.inputs.container = output_dir\n"
   ]
  },
  {
   "cell_type": "code",
   "execution_count": null,
   "metadata": {
    "collapsed": true
   },
   "outputs": [],
   "source": [
    "#establish asl preprocessing workflow that can be run on one subject at a time\n",
    "preprocflow = Workflow(name=\"label\")\n",
    "\n"
   ]
  },
  {
   "cell_type": "code",
   "execution_count": null,
   "metadata": {
    "collapsed": true
   },
   "outputs": [],
   "source": [
    "# preprocflow nodes\n",
    "\n",
    "#gunzip\n",
    "gunzip = Node(Gunzip(), name=\"gunzip\")\n",
    "\n",
    "#slicetiming correction - need to ask Bob\n",
    "sliceTiming = Node(spm.SliceTiming(num_slices=numslices,\n",
    "                               time_repetition=TR,\n",
    "                               time_acquisition=TR-TR/number_of_slices,\n",
    "                               slice_order=asl_slice_order,\n",
    "                               ref_slice=middle_slice),\n",
    "                   name=\"sliceTiming\")\n",
    "\n",
    "#smoothing\n",
    "smooth = Node(spm.Smooth(), name=\"smooth\")\n",
    "smooth.inputs.fwhm = 4\n",
    "\n",
    "#spatial normalization\n",
    "norm = Node(spm.Normalize)"
   ]
  },
  {
   "cell_type": "code",
   "execution_count": null,
   "metadata": {
    "collapsed": true
   },
   "outputs": [],
   "source": [
    "#establish processing workflow for analysis of multiple subjects\n",
    "procflow = Workflow(name='procflow')\n"
   ]
  },
  {
   "cell_type": "code",
   "execution_count": null,
   "metadata": {
    "collapsed": true
   },
   "outputs": [],
   "source": [
    "#proc nodes\n"
   ]
  },
  {
   "cell_type": "code",
   "execution_count": null,
   "metadata": {
    "collapsed": true
   },
   "outputs": [],
   "source": [
    "modelflow = Workflow(name='modelflow')"
   ]
  }
 ],
 "metadata": {
  "kernelspec": {
   "display_name": "Python 2",
   "language": "python",
   "name": "python2"
  },
  "language_info": {
   "codemirror_mode": {
    "name": "ipython",
    "version": 2
   },
   "file_extension": ".py",
   "mimetype": "text/x-python",
   "name": "python",
   "nbconvert_exporter": "python",
   "pygments_lexer": "ipython2",
   "version": "2.7.12"
  }
 },
 "nbformat": 4,
 "nbformat_minor": 2
}
