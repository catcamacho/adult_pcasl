{
 "cells": [
  {
   "cell_type": "code",
   "execution_count": null,
   "metadata": {
    "collapsed": true
   },
   "outputs": [],
   "source": [
    "import numpy as np\n",
    "import os\n",
    "from glob import glob\n",
    "import matplotlib.pyplot as plt\n",
    "import nibabel as nib\n",
    "from os.path import join as opj\n",
    "from numpy import median, rint\n",
    "\n",
    "from nipype.interfaces import spm\n",
    "from nipype.interfaces import fsl\n",
    "from nipype.interfaces.utility import Function, IdentityInterface\n",
    "from nipype.interfaces.io import FreeSurferSource, SelectFiles, DataSink\n",
    "from nipype.algorithms.misc import Gunzip\n",
    "from nipype.algorithms.modelgen import SpecifySPMModel\n",
    "from nipype.pipeline.engine import Workflow, Node, MapNode\n",
    "\n",
    "# MATLAB - Specify path to current SPM and the MATLAB's default mode\n",
    "from nipype.interfaces.matlab import MatlabCommand\n",
    "MatlabCommand.set_default_paths('~/spm12/toolbox')\n",
    "MatlabCommand.set_default_matlab_cmd(\"matlab -nodesktop -nosplash\")\n",
    "project_home = '/Users/myelin/Documents/asl_practice'\n",
    "\n",
    "#other study-specific variables\n",
    "subjects_dir = project_home + '/subs'\n",
    "subjects_list = ['ko']\n",
    "raw_dir = 'raw'\n",
    "output_dir = 'proc'\n",
    "\n",
    "#pre-proc variables\n",
    "numslices = 38\n",
    "TR = 4.844\n",
    "asl_slice_order = range(1,numslices+1)\n",
    "middle_slice = np.around(median(asl_slice_order), decimals=-1)\n",
    "middle_slice = middle_slice.astype(int)\n",
    "\n",
    "#Population specific variables for ASL\n",
    "T1_gm = 1.2 #T1 of gray matter tissue in seconds (for CBF quantification)\n",
    "nex_asl = 3 #number of excitations from the 3D ASL scan parameters\n",
    "inversion_efficiency = 0.8 #from GE\n",
    "background_supp_eff = 0.75 #from GE\n",
    "efficiency = inversion_efficiency * background_supp_eff \n",
    "T1_blood = 1.65 #T1 of blood in seconds(1.6s at 3T and 1.4s at 1.5T)\n",
    "sat_time = 2 #in seconds, from GE\n",
    "partition_coeff = 0.9 #whole brain average in ml/g\n",
    "scaling_factor = 32 #scaling factor, can be taken from PW dicom header\n",
    "postlabel_delay = 1.525 #post label delay in seconds\n",
    "labeling_time = 1.450 #labeling time in seconds"
   ]
  }
 ],
 "metadata": {
  "kernelspec": {
   "display_name": "Python 2",
   "language": "python",
   "name": "python2"
  },
  "language_info": {
   "codemirror_mode": {
    "name": "ipython",
    "version": 2
   },
   "file_extension": ".py",
   "mimetype": "text/x-python",
   "name": "python",
   "nbconvert_exporter": "python",
   "pygments_lexer": "ipython2",
   "version": "2.7.12"
  }
 },
 "nbformat": 4,
 "nbformat_minor": 2
}
