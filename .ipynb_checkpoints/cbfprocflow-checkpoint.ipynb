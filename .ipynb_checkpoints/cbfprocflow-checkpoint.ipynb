{
 "cells": [
  {
   "cell_type": "code",
   "execution_count": null,
   "metadata": {
    "collapsed": false,
    "deletable": true,
    "editable": true
   },
   "outputs": [],
   "source": [
    "import os\n",
    "from glob import glob\n",
    "import nibabel as nib\n",
    "from numpy import median, rint, exp\n",
    "from os.path import join as opj\n",
    "\n",
    "from nipype.interfaces import freesurfer as fs\n",
    "from nipype.interfaces import spm\n",
    "from nipype.interfaces import fsl\n",
    "from nipype.interfaces.utility import Function, IdentityInterface\n",
    "from nipype.interfaces.io import FreeSurferSource, SelectFiles, DataSink\n",
    "from nipype.interfaces.slicer.registration import brainsresample\n",
    "from nipype.algorithms.misc import Gunzip\n",
    "from nipype.pipeline.engine import Workflow, Node, MapNode\n",
    "\n",
    "# MATLAB setup - Specify path to current SPM and the MATLAB's default mode\n",
    "from nipype.interfaces.matlab import MatlabCommand\n",
    "MatlabCommand.set_default_paths('~/spm12/toolbox')\n",
    "MatlabCommand.set_default_matlab_cmd(\"matlab -nodesktop -nosplash\")\n",
    "\n",
    "#freesurfer setup\n",
    "fs_dir = subjects_dir + '/freesurfer'\n",
    "fs.FSCommand.set_default_subjects_dir(fs_dir)\n",
    "\n",
    "#other study-specific variables\n",
    "project_home = '/Users/catcamacho/Dropbox/Projects/TH_NAR_ASL/proc/dev'\n",
    "subjects_dir = project_home\n",
    "subjects_list = ['ko']\n",
    "raw_dir = project_home + '/raw'\n",
    "output_dir = project_home + '/proc'\n",
    "template = project_home + '/template/avg152T1.nii'\n",
    "\n",
    "#Population specific variables for ASL\n",
    "nex_asl = 1 #number of excitations from the 3D ASL scan parameters\n",
    "inversion_efficiency = 0.8 #from GE\n",
    "background_supp_eff = 0.75 #from GE\n",
    "efficiency = inversion_efficiency * background_supp_eff \n",
    "T1_blood = 1.6 #T1 of blood in seconds(1.6s at 3T and 1.4s at 1.5T)\n",
    "sat_time = 2 #in seconds, from GE\n",
    "partition_coeff = 0.9 #whole brain average in ml/g\n",
    "scaling_factor = 32 #scaling factor, can be taken from PW dicom header at position 0043,107f\n",
    "postlabel_delay = 2.025 #1.525 #post label delay in seconds\n",
    "labeling_time = 1.450 #labeling time in seconds\n",
    "T1_tissue = 1.2 #estimated T1 of grey matter in seconds"
   ]
  },
  {
   "cell_type": "code",
   "execution_count": null,
   "metadata": {
    "collapsed": false,
    "deletable": true,
    "editable": true
   },
   "outputs": [],
   "source": [
    "## File handling nodes\n",
    "\n",
    "# Select subjects\n",
    "infosource = Node(IdentityInterface(fields=['subjid']),\n",
    "                  name='infosource')\n",
    "infosource.iterables = [('subjid', subjects_list)]\n",
    "\n",
    "# SelectFiles\n",
    "templates = {'cbf': raw_dir + '/{subjid}/pw.nii'}\n",
    "selectfiles = Node(SelectFiles(templates), name='selectfiles')\n",
    "\n",
    "# FreeSurferSource - Data grabber specific for FreeSurfer data\n",
    "fssource = Node(FreeSurferSource(subjects_dir=fs_dir),\n",
    "                run_without_submitting=True,\n",
    "                name='fssource')\n",
    "# Datasink\n",
    "datasink = Node(DataSink(), name='datasink')\n",
    "datasink.inputs.base_directory = output_dir\n",
    "datasink.inputs.container = output_dir"
   ]
  },
  {
   "cell_type": "code",
   "execution_count": null,
   "metadata": {
    "collapsed": true
   },
   "outputs": [],
   "source": [
    "## Custom functions\n",
    "\n",
    "# quantify CBF from PW volume\n",
    "def quantify_cbf(pw_volume,pd_volume,sat_time,T1_tissue,postlabel_delay,T1_blood,labeling_time,efficiency,nex_asl,scaling_factor,partition_coeff):\n",
    "    # set variables\n",
    "    pw_data = pw_volume.get_data()\n",
    "    pd_data = pd_volume.get_data()\n",
    "    conversion = 6000 #to convert values from mL/g/s to mL/100g/min\n",
    "    \n",
    "    cbf_numerator = (1-exp(-1*sat_time/T1_tissue))*exp(postlabel_delay/T1_blood)\n",
    "    cbf_denominator = 2*T1_blood*(1-exp(-1*labeling_time/T1_blood))*efficiency*nex_asl\n",
    "    cbf_data = conversion*partition_coeff*(cbf_numerator/cbf_denominator)*(pw_data/(scaling_factor*pd_data))\n",
    "    \n",
    "    cbf_vol = nib.Nifti1Image(cbf_data, pw_nifti1.affine)\n",
    "    nib.save(cbf_vol,raw_dir + '/{subjid}/cbf.nii')\n",
    "    \n",
    "quant_cbf = Node(name='quant_cbf',\n",
    "                interface=Function(input_names=[],\n",
    "                                  output_names=['out_file'],\n",
    "                                  function=quantify_cbf))"
   ]
  },
  {
   "cell_type": "code",
   "execution_count": null,
   "metadata": {
    "collapsed": true
   },
   "outputs": [],
   "source": [
    "## File Processing nodes\n",
    "\n",
    "# reorient data for consistency\n",
    "reorient = Node(fsl.utils.Reorient2Std(output_type='NIFTI'),\n",
    "                name='reorient')\n",
    "\n",
    "# BBRegister - coregister a volume to the Freesurfer anatomical\n",
    "bbregister = Node(fs.BBRegister(init='header',\n",
    "                                contrast_type='t2',\n",
    "                                out_fsl_file=True),\n",
    "                  name='bbregister')\n",
    "\n",
    "# convert files to nifti\n",
    "mri_convert = Node(fs.MRIConvert(out_type='nii',\n",
    "                                out_orientation='RAS'), \n",
    "                   name='mri_convert')\n",
    "\n",
    "# Volume Transformation - transform the brainmask into functional space\n",
    "applyVolTrans = Node(fs.ApplyVolTransform(inverse=True),\n",
    "                     name='applyVolTrans')\n",
    "\n",
    "# Binarize -  binarize and dilate image to create a brainmask\n",
    "binarize = Node(fs.Binarize(min=0.5,\n",
    "                         dilate=1,\n",
    "                         out_type='nii'),\n",
    "                name='binarize')\n",
    "\n",
    "# Mask brain in cbf volume\n",
    "applyMask = Node(fsl.maths.ApplyMask(output_type='NIFTI'), \n",
    "                        name='applyMask')"
   ]
  },
  {
   "cell_type": "code",
   "execution_count": null,
   "metadata": {
    "collapsed": false,
    "deletable": true,
    "editable": true
   },
   "outputs": [],
   "source": [
    "# Create a preprocessing for anat + CBF processing\n",
    "cbfprocflow = Workflow(name='cbfprocflow')\n",
    "\n",
    "# Connect all components of the preprocessing workflow\n",
    "cbfprocflow.connect([(infosource, selectfiles, [('subjid', 'subjid')]),\n",
    "                     (infosource, fssource, [('subjid','subject_id')]),\n",
    "                     (infosource, bbregister, [('subjid','subject_id')]),\n",
    "                     (selectfiles, bbregister, [('cbf', 'source_file')]),\n",
    "                     (fssource, mri_convert, [('brainmask', 'in_file')]),\n",
    "                     (infosource, applyVolTrans, [('subjid','subject')]),\n",
    "                     (mri_convert, applyVolTrans, [('out_file', 'target_file')]),\n",
    "                     (bbregister, applyVolTrans, [('out_reg_file', 'reg_file')]),\n",
    "                     (selectfiles, applyVolTrans, [('cbf', 'source_file')]),\n",
    "                     (applyVolTrans, datasink, [('transformed_file', 'reg_anat')]),\n",
    "                     (applyVolTrans, binarize, [('transformed_file', 'in_file')]),\n",
    "                     (binarize, datasink, [('binary_file', 'binary_anat')]),\n",
    "                     (binarize, applyMask, [('binary_file','mask_file')]),\n",
    "                     (selectfiles, applyMask, [('cbf','in_file')]),\n",
    "                     (applyMask, datasink, [('out_file','masked_cbf')])\n",
    "                     ])\n",
    "cbfprocflow.base_dir = opj(subjects_dir)\n",
    "cbfprocflow.write_graph(graph2use='flat')\n",
    "cbfprocflow.run('MultiProc', plugin_args={'n_procs': 2})"
   ]
  },
  {
   "cell_type": "code",
   "execution_count": null,
   "metadata": {
    "collapsed": true
   },
   "outputs": [],
   "source": []
  }
 ],
 "metadata": {
  "kernelspec": {
   "display_name": "Python 2",
   "language": "python",
   "name": "python2"
  },
  "language_info": {
   "codemirror_mode": {
    "name": "ipython",
    "version": 2
   },
   "file_extension": ".py",
   "mimetype": "text/x-python",
   "name": "python",
   "nbconvert_exporter": "python",
   "pygments_lexer": "ipython2",
   "version": "2.7.11"
  }
 },
 "nbformat": 4,
 "nbformat_minor": 2
}
