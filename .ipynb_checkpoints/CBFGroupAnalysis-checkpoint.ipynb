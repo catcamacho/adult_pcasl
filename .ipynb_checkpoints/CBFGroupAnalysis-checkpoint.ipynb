{
 "cells": [
  {
   "cell_type": "code",
   "execution_count": 1,
   "metadata": {},
   "outputs": [],
   "source": [
    "import os\n",
    "from os.path import join as opj\n",
    "from nipype.pipeline.engine import Workflow, Node, MapNode\n",
    "from nipype.interfaces.utility import Function, IdentityInterface\n",
    "from nipype.interfaces.io import SelectFiles, DataSink, DataGrabber\n",
    "from nipype.interfaces.fsl.model import Randomise, Cluster\n",
    "from nipype.interfaces.fsl.utils import Merge, ImageMeants\n",
    "from nipype.interfaces.fsl.maths import ApplyMask\n",
    "from nipype.interfaces.freesurfer.model import Binarize\n",
    "\n",
    "#other study-specific variables\n",
    "project_home = '/Users/catcamacho/Dropbox/Projects/th_nar_asl/proc'\n",
    "preproc_dir = project_home + '/proc/asl_preproc'\n",
    "output_dir = project_home + '/proc/asl_secondlevel'\n",
    "wkflow_dir = project_home + '/workflows'\n",
    "mask = project_home + '/template/MNI_2mm_GM_mask.nii'\n",
    "\n",
    "#covariate_file = project_home + '/modelinfo/MCageCov.txt'\n",
    "t_contrasts = project_home + '/misc/tcon.con'\n",
    "group_mat = project_home + '/misc/design.mat'"
   ]
  },
  {
   "cell_type": "code",
   "execution_count": 2,
   "metadata": {
    "collapsed": true
   },
   "outputs": [],
   "source": [
    "# Data handling nodes\n",
    "grabcbfdata = Node(DataGrabber(template=preproc_dir + '/std_cbf/*/swarped_cbf.nii', \n",
    "                               sort_filelist=True, \n",
    "                               outfields=['cbf_list']), \n",
    "                   name='grabcbf')\n",
    "\n",
    "# Datasink\n",
    "datasink = Node(DataSink(base_directory = output_dir, \n",
    "                         container = output_dir), \n",
    "                name='datasink')\n",
    "\n",
    "# DataSink output substitutions (for ease of folder naming)\n",
    "substitutions = [('_subjid_', '')]\n",
    "datasink.inputs.substitutions = substitutions"
   ]
  },
  {
   "cell_type": "code",
   "execution_count": 3,
   "metadata": {},
   "outputs": [],
   "source": [
    "merge_cbf = Node(Merge(dimension = 't'), name='merge_cbf')\n",
    "\n",
    "# FSL randomise for higher level analysis\n",
    "highermodel = Node(Randomise(tfce=True,\n",
    "                             c_thresh=2.3,\n",
    "                             tcon=t_contrasts,\n",
    "                             raw_stats_imgs= True,\n",
    "                             mask=mask,\n",
    "                             num_perm= 5000,\n",
    "                             design_mat=group_mat),\n",
    "                   name = 'highermodel')\n",
    "\n",
    "# Make mask of significant voxels\n",
    "binarize = MapNode(Binarize(min=0.99), name='binarize', iterfield=['in_file'])\n",
    "\n",
    "# Mask the tstat files\n",
    "applyMask = MapNode(ApplyMask(), name='applyMask',iterfield=['mask_file','in_file'])\n",
    "\n",
    "cluster = MapNode(Cluster(threshold=2.3, \n",
    "                          out_index_file=True, \n",
    "                          out_localmax_txt_file=True, \n",
    "                          minclustersize=True, \n",
    "                          peak_distance=6), \n",
    "                  name='cluster', \n",
    "                  iterfield=['in_file'])"
   ]
  },
  {
   "cell_type": "code",
   "execution_count": null,
   "metadata": {
    "scrolled": true
   },
   "outputs": [
    {
     "name": "stdout",
     "output_type": "stream",
     "text": [
      "180428-11:08:08,302 workflow INFO:\n",
      "\t Generated workflow graph: /Users/catcamacho/Dropbox/Projects/th_nar_asl/proc/workflows/cbf_groupflow/graph.png (graph2use=flat, simple_form=True).\n",
      "180428-11:08:08,342 workflow INFO:\n",
      "\t Workflow cbf_groupflow settings: ['check', 'execution', 'logging', 'monitoring']\n",
      "180428-11:08:08,356 workflow INFO:\n",
      "\t Running in parallel.\n",
      "180428-11:08:08,360 workflow INFO:\n",
      "\t [MultiProc] Running 0 tasks, and 1 jobs ready. Free memory (GB): 14.40/14.40, Free processors: 2/2.\n",
      "180428-11:08:08,413 workflow INFO:\n",
      "\t [Node] Setting-up \"cbf_groupflow.grabcbf\" in \"/Users/catcamacho/Dropbox/Projects/th_nar_asl/proc/workflows/cbf_groupflow/grabcbf\".\n",
      "180428-11:08:08,425 workflow INFO:\n",
      "\t [Node] Running \"grabcbf\" (\"nipype.interfaces.io.DataGrabber\")\n",
      "180428-11:08:08,461 workflow INFO:\n",
      "\t [Node] Finished \"cbf_groupflow.grabcbf\".\n",
      "180428-11:08:10,361 workflow INFO:\n",
      "\t [Job 0] Completed (cbf_groupflow.grabcbf).\n",
      "180428-11:08:10,365 workflow INFO:\n",
      "\t [MultiProc] Running 0 tasks, and 1 jobs ready. Free memory (GB): 14.40/14.40, Free processors: 2/2.\n",
      "180428-11:08:10,403 workflow INFO:\n",
      "\t [Job 1] Cached (cbf_groupflow.merge_cbf).\n",
      "180428-11:08:12,398 workflow INFO:\n",
      "\t [Node] Outdated cache found for \"cbf_groupflow.highermodel\".\n",
      "180428-11:08:12,405 workflow INFO:\n",
      "\t [Node] Setting-up \"cbf_groupflow.highermodel\" in \"/Users/catcamacho/Dropbox/Projects/th_nar_asl/proc/workflows/cbf_groupflow/highermodel\".\n",
      "180428-11:08:12,412 workflow INFO:\n",
      "\t [Node] Outdated cache found for \"cbf_groupflow.highermodel\".\n",
      "180428-11:08:12,431 workflow INFO:\n",
      "\t [Node] Running \"highermodel\" (\"nipype.interfaces.fsl.model.Randomise\"), a CommandLine Interface with command:\n",
      "randomise -i /Users/catcamacho/Dropbox/Projects/TH_NAR_ASL/proc/workflows/cbf_groupflow/merge_cbf/swarped_cbf_merged.nii.gz -o \"randomise\" -d /Users/catcamacho/Dropbox/Projects/th_nar_asl/proc/misc/design.mat -t /Users/catcamacho/Dropbox/Projects/th_nar_asl/proc/misc/tcon.con -c 2.3 -m /Users/catcamacho/Dropbox/Projects/th_nar_asl/proc/template/MNI_2mm_GM_mask.nii -n 5000 -R\n",
      "180428-11:08:14,369 workflow INFO:\n",
      "\t [MultiProc] Running 1 tasks, and 0 jobs ready. Free memory (GB): 14.20/14.40, Free processors: 1/2.\n",
      "                     Currently running:\n",
      "                       * cbf_groupflow.highermodel\n"
     ]
    }
   ],
   "source": [
    "cbf_groupflow = Workflow(name='cbf_groupflow')\n",
    "cbf_groupflow.connect([(grabcbfdata,merge_cbf, [('cbf_list','in_files')]),\n",
    "                       (merge_cbf,highermodel, [('merged_file','in_file')]),\n",
    "                       (highermodel, binarize, [('t_corrected_p_files','in_file')]),\n",
    "                       (binarize, applyMask, [('binary_file','mask_file')]),\n",
    "                       (highermodel, applyMask, [('tstat_files','in_file')]),\n",
    "                       (applyMask, cluster, [('out_file','in_file')]),\n",
    "                       (cluster, datasink, [('index_file','clusters'), \n",
    "                                            ('localmax_txt_file','localmax_txt_file')]),\n",
    "                       (highermodel,datasink, [('t_corrected_p_files','t_corrected_p_files')]),\n",
    "                       (highermodel,datasink, [('tstat_files','tstat_files')]),\n",
    "                       (applyMask, datasink, [('out_file','masked_tstats')])\n",
    "                      ])\n",
    "cbf_groupflow.base_dir = wkflow_dir\n",
    "cbf_groupflow.write_graph(graph2use='flat')\n",
    "cbf_groupflow.run('MultiProc', plugin_args={'n_procs': 2})"
   ]
  },
  {
   "cell_type": "code",
   "execution_count": null,
   "metadata": {
    "collapsed": true
   },
   "outputs": [],
   "source": []
  }
 ],
 "metadata": {
  "kernelspec": {
   "display_name": "Python 3",
   "language": "python",
   "name": "python3"
  },
  "language_info": {
   "codemirror_mode": {
    "name": "ipython",
    "version": 3
   },
   "file_extension": ".py",
   "mimetype": "text/x-python",
   "name": "python",
   "nbconvert_exporter": "python",
   "pygments_lexer": "ipython3",
   "version": "3.6.3"
  }
 },
 "nbformat": 4,
 "nbformat_minor": 2
}
