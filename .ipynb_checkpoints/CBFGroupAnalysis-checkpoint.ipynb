{
 "cells": [
  {
   "cell_type": "code",
   "execution_count": null,
   "metadata": {},
   "outputs": [],
   "source": [
    "import os\n",
    "from os.path import join as opj\n",
    "from nipype.pipeline.engine import Workflow, Node, MapNode\n",
    "from nipype.interfaces.utility import Function, IdentityInterface\n",
    "from nipype.interfaces.io import SelectFiles, DataSink, DataGrabber\n",
    "from nipype.interfaces.fsl.model import Randomise, Cluster\n",
    "from nipype.interfaces.fsl.utils import Merge, ImageMeants\n",
    "from nipype.interfaces.fsl.maths import ApplyMask\n",
    "from nipype.interfaces.freesurfer.model import Binarize\n",
    "\n",
    "#other study-specific variables\n",
    "project_home = '/Users/catcamacho/Dropbox/Projects/TH_NAR_ASL/proc'\n",
    "preproc_dir = project_home + '/proc/preprocessing'\n",
    "output_dir = project_home + '/proc/secondlevel'\n",
    "wkflow_dir = project_home + '/workflows'\n",
    "mask = project_home + '/template/MNI_2mm_GM_mask.nii'\n",
    "\n",
    "#covariate_file = project_home + '/modelinfo/MCageCov.txt'\n",
    "t_contrasts = project_home + '/misc/tcon.con'\n",
    "group_mat = project_home + '/misc/design.mat'"
   ]
  },
  {
   "cell_type": "code",
   "execution_count": null,
   "metadata": {
    "collapsed": true
   },
   "outputs": [],
   "source": [
    "# Data handling nodes\n",
    "grabcbfdata = Node(DataGrabber(template=preproc_dir + '/std_cbf/*/swarped_cbf.nii', \n",
    "                               sort_filelist=True, \n",
    "                               outfields=['cbf_list']), \n",
    "                   name='grabcbf')\n",
    "\n",
    "# Datasink\n",
    "datasink = Node(DataSink(base_directory = output_dir, \n",
    "                         container = output_dir), \n",
    "                name='datasink')\n",
    "\n",
    "# DataSink output substitutions (for ease of folder naming)\n",
    "substitutions = [('_subjid_', '')]\n",
    "datasink.inputs.substitutions = substitutions"
   ]
  },
  {
   "cell_type": "code",
   "execution_count": null,
   "metadata": {},
   "outputs": [],
   "source": [
    "merge_cbf = Node(Merge(dimension = 't'), name='merge_cbf')\n",
    "\n",
    "# FSL randomise for higher level analysis\n",
    "highermodel = Node(Randomise(tfce=False,\n",
    "                             c_thresh=2,\n",
    "                             tcon=t_contrasts,\n",
    "                             raw_stats_imgs= True,\n",
    "                             mask=mask,\n",
    "                             num_perm= 5000,\n",
    "                             design_mat=group_mat),\n",
    "                   name = 'highermodel')\n",
    "\n",
    "# Make mask of significant voxels\n",
    "binarize = MapNode(Binarize(min=0.95), name='binarize', iterfield=['in_file'])\n",
    "\n",
    "# Mask the tstat files\n",
    "applyMask = MapNode(ApplyMask(), name='applyMask',iterfield=['mask_file','in_file'])\n",
    "\n",
    "cluster = MapNode(Cluster(threshold=2, \n",
    "                          out_index_file=True, \n",
    "                          out_localmax_txt_file=True, \n",
    "                          minclustersize=True, \n",
    "                          peak_distance=6), \n",
    "                  name='cluster', \n",
    "                  iterfield=['in_file'])"
   ]
  },
  {
   "cell_type": "code",
   "execution_count": null,
   "metadata": {
    "scrolled": true
   },
   "outputs": [],
   "source": [
    "cbf_groupflow = Workflow(name='cbf_groupflow')\n",
    "cbf_groupflow.connect([(grabcbfdata,merge_cbf, [('cbf_list','in_files')]),\n",
    "                       (merge_cbf,highermodel, [('merged_file','in_file')]),\n",
    "                       (highermodel, binarize, [('t_corrected_p_files','in_file')]),\n",
    "                       (binarize, applyMask, [('binary_file','mask_file')]),\n",
    "                       (highermodel, applyMask, [('tstat_files','in_file')]),\n",
    "                       (applyMask, cluster, [('out_file','in_file')]),\n",
    "                       (cluster, datasink, [('index_file','clusters'), \n",
    "                                            ('localmax_txt_file','localmax_txt_file')]),\n",
    "                       (highermodel,datasink, [('t_corrected_p_files','t_corrected_p_files')]),\n",
    "                       (highermodel,datasink, [('tstat_files','tstat_files')]),\n",
    "                       (applyMask, datasink, [('out_file','masked_tstats')])\n",
    "                      ])\n",
    "cbf_groupflow.base_dir = wkflow_dir\n",
    "cbf_groupflow.write_graph(graph2use='flat')\n",
    "cbf_groupflow.run('MultiProc', plugin_args={'n_procs': 2})"
   ]
  },
  {
   "cell_type": "code",
   "execution_count": null,
   "metadata": {
    "collapsed": true
   },
   "outputs": [],
   "source": []
  }
 ],
 "metadata": {
  "kernelspec": {
   "display_name": "Python 3",
   "language": "python",
   "name": "python3"
  },
  "language_info": {
   "codemirror_mode": {
    "name": "ipython",
    "version": 3
   },
   "file_extension": ".py",
   "mimetype": "text/x-python",
   "name": "python",
   "nbconvert_exporter": "python",
   "pygments_lexer": "ipython3",
   "version": "3.6.3"
  }
 },
 "nbformat": 4,
 "nbformat_minor": 2
}
