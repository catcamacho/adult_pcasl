{
 "cells": [
  {
   "cell_type": "code",
   "execution_count": null,
   "metadata": {},
   "outputs": [],
   "source": [
    "import os\n",
    "from os.path import join as opj\n",
    "from nipype.pipeline.engine import Workflow, Node, MapNode\n",
    "from nipype.interfaces.utility import Function, IdentityInterface\n",
    "from nipype.interfaces.io import SelectFiles, DataSink, DataGrabber\n",
    "from nipype.interfaces.fsl.model import Randomise, Cluster\n",
    "from nipype.interfaces.fsl.utils import Merge, ImageMeants\n",
    "from nipype.interfaces.fsl.maths import ApplyMask\n",
    "from nipype.interfaces.freesurfer.model import Binarize\n",
    "\n",
    "#other study-specific variables\n",
    "project_home = '/Users/catcamacho/Dropbox/Projects/th_nar_asl/proc'\n",
    "preproc_dir = project_home + '/proc/rest_preproc'\n",
    "firstlevel_dir = project_home + '/proc/rest_firstlevel'\n",
    "secondlevel_dir = project_home + '/proc/rest_secondlevel'\n",
    "wkflow_dir = project_home + '/workflows'\n",
    "mask = project_home + '/template/MNI_2mm_GM_mask.nii'\n",
    "template = project_home + '/template/MNI152_T1_2mm_brain.nii'\n",
    "\n",
    "t_contrasts = project_home + '/misc/tcon.con'\n",
    "group_mat = project_home + '/misc/design.mat'\n",
    "\n",
    "smoothing_kernel = 6 #in mm"
   ]
  },
  {
   "cell_type": "code",
   "execution_count": null,
   "metadata": {},
   "outputs": [],
   "source": [
    "# Data handling nodes\n",
    "grabcbfdata = Node(DataGrabber(template=preproc_dir + '/std_cbf/*/swarped_cbf.nii', \n",
    "                               sort_filelist=True, \n",
    "                               outfields=['cbf_list']), \n",
    "                   name='grabcbf')\n",
    "\n",
    "# Datasink\n",
    "datasink = Node(DataSink(base_directory = output_dir, \n",
    "                         container = output_dir), \n",
    "                name='datasink')\n",
    "\n",
    "# DataSink output substitutions (for ease of folder naming)\n",
    "substitutions = [('_subjid_', '')]\n",
    "datasink.inputs.substitutions = substitutions"
   ]
  },
  {
   "cell_type": "code",
   "execution_count": null,
   "metadata": {},
   "outputs": [],
   "source": [
    "# Register to MNI space\n",
    "reg_rest2standard = Node(FLIRT(reference=template), \n",
    "                         name = 'reg_rest2standard')\n",
    "\n",
    "# Apply the transform to all volumes\n",
    "rest_applyXform = Node(FLIRT(reference=template,apply_xfm=True), \n",
    "                       name = 'rest_applyXform')\n",
    "\n",
    "# Smooth the data\n",
    "brightthresh = Node(Function(input_names=['func'],\n",
    "                             output_names=['bright_thresh'],\n",
    "                             function=brightthresh),\n",
    "                    name='brightthresh')\n",
    "smooth = Node(SUSAN(fwhm=smoothing_kernel),\n",
    "              name='smooth')"
   ]
  },
  {
   "cell_type": "code",
   "execution_count": null,
   "metadata": {},
   "outputs": [],
   "source": [
    "(bandpass,brightthresh,[('out_file','func')]),\n",
    "(bandpass,smooth,[('out_file','in_file')]),\n",
    "(brightthresh,smooth,[('bright_thresh','brightness_threshold')]),\n",
    "(selectfiles,reg_rest2standard,[('proc_anat','in_file')]),\n",
    "(reg_rest2standard,rest_applyXform,[('out_matrix_file','in_matrix_file')]),\n",
    "(smooth,rest_applyXform,[('smoothed_file','in_file')]),"
   ]
  }
 ],
 "metadata": {
  "kernelspec": {
   "display_name": "Python 3",
   "language": "python",
   "name": "python3"
  },
  "language_info": {
   "codemirror_mode": {
    "name": "ipython",
    "version": 3
   },
   "file_extension": ".py",
   "mimetype": "text/x-python",
   "name": "python",
   "nbconvert_exporter": "python",
   "pygments_lexer": "ipython3",
   "version": "3.6.3"
  }
 },
 "nbformat": 4,
 "nbformat_minor": 2
}
